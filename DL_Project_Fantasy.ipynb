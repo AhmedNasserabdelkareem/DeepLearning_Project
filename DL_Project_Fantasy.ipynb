{
  "nbformat": 4,
  "nbformat_minor": 0,
  "metadata": {
    "colab": {
      "name": "DL_Project_Fantasy.ipynb",
      "provenance": [],
      "collapsed_sections": []
    },
    "kernelspec": {
      "name": "python3",
      "display_name": "Python 3"
    }
  },
  "cells": [
    {
      "cell_type": "markdown",
      "metadata": {
        "id": "Q_AQCfHfevnb",
        "colab_type": "text"
      },
      "source": [
        "# IMPORT AND UTILS"
      ]
    },
    {
      "cell_type": "code",
      "metadata": {
        "id": "WLx0m0GOSg_1",
        "colab_type": "code",
        "outputId": "a14ce129-1ecb-44f1-d97f-e2cb88318a6d",
        "colab": {
          "base_uri": "https://localhost:8080/",
          "height": 71
        }
      },
      "source": [
        "import pandas as pd\n",
        "import numpy as np\n",
        "import seaborn as sns\n",
        "import matplotlib\n",
        "\n",
        "import matplotlib.pyplot as plt\n",
        "from scipy.stats import skew\n",
        "from scipy.stats.stats import pearsonr\n",
        "from tensorflow.keras.layers import Dense,Activation,Flatten,Conv2D,MaxPooling2D\n",
        "from tensorflow.keras.models import Sequential\n",
        "from tensorflow.keras.regularizers import l1, l2\n",
        "from sklearn.preprocessing import StandardScaler\n",
        "from sklearn.model_selection import train_test_split\n",
        "from tensorflow.keras import regularizers\n",
        "from tensorflow.keras.models import load_model\n",
        "from tensorflow.keras.optimizers import Adam,Adagrad,Adamax,RMSprop,SGD,Adadelta\n",
        "import pandas as pd"
      ],
      "execution_count": 0,
      "outputs": [
        {
          "output_type": "stream",
          "text": [
            "/usr/local/lib/python3.6/dist-packages/statsmodels/tools/_testing.py:19: FutureWarning: pandas.util.testing is deprecated. Use the functions in the public API at pandas.testing instead.\n",
            "  import pandas.util.testing as tm\n"
          ],
          "name": "stderr"
        }
      ]
    },
    {
      "cell_type": "code",
      "metadata": {
        "id": "gUPKqBcpSvav",
        "colab_type": "code",
        "colab": {}
      },
      "source": [
        "model_default_name = 'fantasy_model.h5'\n",
        "def build_model(inputDim,layers,activation,regularizers,numOfclasses,outputlayerActivation):\n",
        "  model = Sequential()\n",
        "  print(inputDim[0],inputDim[1])\n",
        "  model.add(Dense(layers[0],input_shape=(inputDim[1],)))\n",
        "  for i in range(1,len(layers)) :\n",
        "    model.add(Dense(layers[i], activation=activation[i],kernel_regularizer=regularizers[i]))\n",
        "  model.add(Dense(numOfclasses,activation=outputlayerActivation))\n",
        "  return model\n",
        "def save_model(model,name=model_default_name):\n",
        "  model.save(name) \n",
        "def load_model (name = model_default_name):\n",
        "  model = load_model(name)\n",
        "def tune_1 (model ,x,y, opts , lrs , losses ,validation_split = 0.2, plot = True , verbose = 0 , batch_size = 50,epochs=50) :\n",
        "  table = [] # [specs , training data , val data , max differnce to test overfitting]\n",
        "  for l in losses:\n",
        "    for o in opts :\n",
        "      for lr in lrs :\n",
        "        o.learning_rate.assign(lr)\n",
        "        model.compile(optimizer= o, loss=l,metrics=['acc'])\n",
        "        \n",
        "        hist = model.fit(x=x, y=y, batch_size=batch_size, epochs=epochs, verbose=verbose,  validation_split=validation_split)\n",
        "\n",
        "        training_acc = hist.history['loss']\n",
        "        val_acc = hist.history['val_loss']\n",
        "        specifications ='loss_function : '+str( l)+ ', optimizer :', str(o) +', learning_rate : '+str(lr) \n",
        "        best_accuracy_index =np.argmax( np.array(training_acc))\n",
        "        best_accuracy = training_acc[best_accuracy_index]\n",
        "        corresponding_validation_acc = val_acc[best_accuracy_index]\n",
        "        max_difference = best_accuracy - corresponding_validation_acc\n",
        "        table.append([specifications,training_acc,val_acc ,max_difference])\n",
        "        if plot :\n",
        "          print(specifications)\n",
        "          epoch_count = range(1, len(training_acc) + 1)\n",
        "          plt.figure()\n",
        "          plt.plot(epoch_count, training_acc, 'r--')\n",
        "          plt.plot(epoch_count, val_acc, 'b-')\n",
        "          plt.legend(['Training Loss', 'Val Loss'])\n",
        "          plt.xlabel('Epoch')\n",
        "          plt.ylabel('Loss')\n",
        "          plt.show()\n",
        "  return table"
      ],
      "execution_count": 0,
      "outputs": []
    },
    {
      "cell_type": "code",
      "metadata": {
        "id": "l6WibyyUS28L",
        "colab_type": "code",
        "outputId": "af7ce1dc-e330-4de1-ff84-3036a9a70777",
        "colab": {
          "base_uri": "https://localhost:8080/",
          "height": 136
        }
      },
      "source": [
        "!git clone https://github.com/vaastav/Fantasy-Premier-League.git"
      ],
      "execution_count": 0,
      "outputs": [
        {
          "output_type": "stream",
          "text": [
            "Cloning into 'Fantasy-Premier-League'...\n",
            "remote: Enumerating objects: 3278, done.\u001b[K\n",
            "remote: Counting objects: 100% (3278/3278), done.\u001b[K\n",
            "remote: Compressing objects: 100% (1926/1926), done.\u001b[K\n",
            "remote: Total 87130 (delta 1090), reused 2606 (delta 991), pack-reused 83852\u001b[K\n",
            "Receiving objects: 100% (87130/87130), 27.96 MiB | 10.14 MiB/s, done.\n",
            "Resolving deltas: 100% (39893/39893), done.\n"
          ],
          "name": "stdout"
        }
      ]
    },
    {
      "cell_type": "code",
      "metadata": {
        "id": "XXIqKUbGS7Fv",
        "colab_type": "code",
        "outputId": "1a148840-7937-4d56-d241-933f4053e384",
        "colab": {
          "base_uri": "https://localhost:8080/",
          "height": 34
        }
      },
      "source": [
        "cd Fantasy-Premier-League/data/"
      ],
      "execution_count": 0,
      "outputs": [
        {
          "output_type": "stream",
          "text": [
            "/content/Fantasy-Premier-League/data\n"
          ],
          "name": "stdout"
        }
      ]
    },
    {
      "cell_type": "code",
      "metadata": {
        "id": "BF0_Toi3S_Pv",
        "colab_type": "code",
        "colab": {}
      },
      "source": [
        "def load_training_set(seasons = ['2016-17'],gws_number=38):\n",
        "  dfs = [] #data frames of [seosons][gws]\n",
        "  pos = [] #position of every player\n",
        "  for season in seasons :\n",
        "    s =[]\n",
        "    pos.append(pd.read_csv(season+'/players_raw.csv',encoding = \"ISO-8859-1\"))\n",
        "    for i in range(0,gws_number):\n",
        "     s.append(pd.read_csv(season+'/gws/gw'+str(i+1)+'.csv',encoding = \"ISO-8859-1\"))\n",
        "    dfs.append(s)\n",
        "  return dfs,pos"
      ],
      "execution_count": 0,
      "outputs": []
    },
    {
      "cell_type": "code",
      "metadata": {
        "id": "UV2D2M3UTFX6",
        "colab_type": "code",
        "colab": {}
      },
      "source": [
        "seasons = ['2016-17','2017-18','2018-19']\n",
        "training_data,pos = load_training_set(seasons)"
      ],
      "execution_count": 0,
      "outputs": []
    },
    {
      "cell_type": "markdown",
      "metadata": {
        "id": "R9qIghazfayj",
        "colab_type": "text"
      },
      "source": [
        "# Normalization and To-Categorial"
      ]
    },
    {
      "cell_type": "code",
      "metadata": {
        "id": "ZREScVZbTM1i",
        "colab_type": "code",
        "colab": {}
      },
      "source": [
        "def to_numeric(training_data):\n",
        "  # >to numeric features (kickoff_time,kickoff_time_formatted,was_home)\n",
        "  for season in training_data:\n",
        "    for gw in season:\n",
        "      gw['was_home'] = gw['was_home'].astype(int)\n",
        "      for counter in range(0,len(gw)):\n",
        "        line = gw['kickoff_time'][counter].split('T')\n",
        "        hour = int(line[1][0:2])\n",
        "        #print(hour)\n",
        "        if 0<=hour<=4 or 18<=hour<=23:\n",
        "          val = 0 # night\n",
        "        else:\n",
        "          val =1  # noon\n",
        "        gw['kickoff_time'][counter] = val\n",
        "        if 'kickoff_time_formatted' in gw.columns:\n",
        "          gw['kickoff_time_formatted'][counter] = val\n",
        "        #    was_home = 1 home\n",
        "        #    was_home = 0 away"
      ],
      "execution_count": 0,
      "outputs": []
    },
    {
      "cell_type": "code",
      "metadata": {
        "id": "OAWcIbEfTQ6D",
        "colab_type": "code",
        "colab": {}
      },
      "source": [
        "def normalize(training_data):\n",
        "  #todo normalize data\n",
        "  train_x=[]\n",
        "  from sklearn.preprocessing import StandardScaler\n",
        "  s = StandardScaler()\n",
        "  for season in training_data:\n",
        "    tmp=list()\n",
        "    for gw in season:\n",
        "      name_ind = [gw.columns.get_loc('name') for c in gw.columns if c in gw][0] \n",
        "      element_ind = [gw.columns.get_loc('element') for c in gw.columns if c in gw][0]\n",
        "      kick_ind=[gw.columns.get_loc('kickoff_time') for c in gw.columns if c in gw][0]\n",
        "      home_ind = [gw.columns.get_loc('was_home') for c in gw.columns if c in gw][0]\n",
        "      points_ind = [gw.columns.get_loc('total_points') for c in gw.columns if c in gw][0]\n",
        "      names = gw['name']\n",
        "      gw = gw.drop(['name'],axis=1)\n",
        "      element = gw['element']\n",
        "      gw = gw.drop(['element'],axis=1)\n",
        "      home = gw['was_home']\n",
        "      gw = gw.drop(['was_home'],axis=1)\n",
        "      kicktime = gw['kickoff_time']\n",
        "      gw = gw.drop(['kickoff_time'],axis=1)\n",
        "      points = gw['total_points']\n",
        "      gw = gw.drop(['total_points'],axis=1)\n",
        "      normalized = s.fit_transform(gw)\n",
        "      normalizedData = pd.DataFrame(data = normalized,columns=gw.columns)\n",
        "      normalizedData.insert(name_ind,\"name\" ,names,True) #0\n",
        "      normalizedData.insert(element_ind,\"element\" ,element,True)#13 \n",
        "      normalizedData.insert(kick_ind,'kickoff_time' ,kicktime,True)#24 \n",
        "      normalizedData.insert(home_ind,'was_home' ,home,True)#52\n",
        "      normalizedData.insert(points_ind,'total_points' ,points,True)\n",
        "      tmp.append(normalizedData)\n",
        "    train_x.append(tmp)\n",
        "  return train_x\n"
      ],
      "execution_count": 0,
      "outputs": []
    },
    {
      "cell_type": "code",
      "metadata": {
        "id": "NZCkGmw1h69m",
        "colab_type": "code",
        "outputId": "b3c64dac-0769-4c50-9542-4dd0cdcf8652",
        "colab": {
          "base_uri": "https://localhost:8080/",
          "height": 187
        }
      },
      "source": [
        "to_numeric(training_data)\n",
        "training_data = normalize(training_data)"
      ],
      "execution_count": 0,
      "outputs": [
        {
          "output_type": "stream",
          "text": [
            "/usr/local/lib/python3.6/dist-packages/ipykernel_launcher.py:14: SettingWithCopyWarning: \n",
            "A value is trying to be set on a copy of a slice from a DataFrame\n",
            "\n",
            "See the caveats in the documentation: https://pandas.pydata.org/pandas-docs/stable/user_guide/indexing.html#returning-a-view-versus-a-copy\n",
            "  \n",
            "/usr/local/lib/python3.6/dist-packages/ipykernel_launcher.py:16: SettingWithCopyWarning: \n",
            "A value is trying to be set on a copy of a slice from a DataFrame\n",
            "\n",
            "See the caveats in the documentation: https://pandas.pydata.org/pandas-docs/stable/user_guide/indexing.html#returning-a-view-versus-a-copy\n",
            "  app.launch_new_instance()\n"
          ],
          "name": "stderr"
        }
      ]
    },
    {
      "cell_type": "code",
      "metadata": {
        "id": "PH7ODBnNjrfO",
        "colab_type": "code",
        "colab": {}
      },
      "source": [
        "#display(training_data[0][0])"
      ],
      "execution_count": 0,
      "outputs": []
    },
    {
      "cell_type": "markdown",
      "metadata": {
        "id": "8TsuEe3LoNba",
        "colab_type": "text"
      },
      "source": [
        "# Prepare Input"
      ]
    },
    {
      "cell_type": "code",
      "metadata": {
        "id": "rZQ-Lm6PTUQ4",
        "colab_type": "code",
        "colab": {}
      },
      "source": [
        "key = 'name'\n",
        "#f1_indices = [5,16,20,22]\n",
        "##            [2,7 ,10,11]\n",
        "#T1 features : current gameweek status\n",
        "def add_type1_features(player , curr_index , gws , x,mode='train'): #predicting index+1\n",
        "  if mode == 'train':\n",
        "    f1_indices =[5,16,20,22]\n",
        "  elif mode == 'test':\n",
        "    f1_indices =[2,7,10,11]\n",
        "  current_gameweek =gws[curr_index].loc[gws[curr_index][key]==player].values[0]\n",
        "  for index in f1_indices :\n",
        "    x.append(current_gameweek[index]) \n",
        "\n",
        "\n",
        "#T2 features : statistics on prev gameweeks for that player                       \n",
        "def add_type2_features(player ,curr_index , gws , x,f2_indices_mean):\n",
        "  if curr_index > 7 :\n",
        "    pgws = gws[curr_index-7:curr_index+1]\n",
        "  else:\n",
        "    pgws = gws[:curr_index+1]\n",
        "  prev_gameweeks =[]\n",
        "  for gw in pgws :\n",
        "    if len(gw.loc[gw[key]==player].values) == 0 :\n",
        "      continue\n",
        "    prev_gameweeks.append(gw.loc[gw[key]==player].values[0])\n",
        "  for i in f2_indices_mean :\n",
        "    ls =[row[i] for row in prev_gameweeks]\n",
        "    if len(ls)!=0:\n",
        "      mean = np.array(ls).mean()\n",
        "      x.append(mean)\n",
        "    else:\n",
        "      x.append(0)\n",
        "\n",
        "\n",
        "def add_type2_features_position(pos,player ,curr_index , gws , x,mode='train'):\n",
        "  if mode == 'train':\n",
        "      if pos ==1:\n",
        "      #old f2_mean = [3,7,8,9,10,14,15,17,23,30,35,36,37,39,42,54]#16\n",
        "        f2_mean = [7,10,18,35,37,39,54]\n",
        "      elif pos ==2:\n",
        "        #old f2_mean = [2,3,7,8,9,10,14,15,17,23,30,32,36,37,42,54]#16 I deleted 11(dribble)\n",
        "        f2_mean = [1,7,10,18,32,37,54]\n",
        "      elif pos ==3:\n",
        "        #old f2_mean = [1,3,4,7,9,10,11,14,15,17,18,19,23,37,42,54]#16 I deleted 2(attempted passes)\n",
        "        f2_mean = [1,7,10,19,37,46,54]\n",
        "      elif pos ==4:\n",
        "        #old f2_mean = [1,3,4,9,10,11,18,19,23,29,33,34,37,46,53,54]#16\n",
        "        f2_mean = [1,10,19,34,37,46,54]\n",
        "  elif mode == 'test':\n",
        "      if pos ==1:\n",
        "        f2_mean = [4,5,8,17,18,20,31]\n",
        "      elif pos ==2:\n",
        "        f2_mean = [1,4,5,8,15,18,31]\n",
        "      elif pos ==3:\n",
        "        f2_mean = [1,4,5,9,18,24,31]\n",
        "      elif pos ==4:\n",
        "        f2_mean = [1,5,9,16,18,24,31]\n",
        "\n",
        "  add_type2_features(player,curr_index,gws,x,f2_mean)\n",
        "\n",
        "\n",
        "\n",
        "#f3_indices =[48,49,50,51]\n",
        "##           [26,27,28,29]\n",
        "\n",
        "\n",
        "#T3 features : next match satus\n",
        "def add_type3_features(player ,curr_index , gws , x,mode='train'):\n",
        "  if mode == 'train':\n",
        "    f3_indices =[48,49,50,51]\n",
        "  elif mode == 'test':\n",
        "    f3_indices =[26,27,28,29]\n",
        "\n",
        "  if(len(gws) -1 <= curr_index) :\n",
        "    next_gameweek = gws[curr_index].loc[gws[curr_index][key]==player].values[0]\n",
        "  else :\n",
        "    next_gameweek =gws[curr_index].loc[gws[curr_index][key]==player].values[0]\n",
        "  for i in f3_indices :\n",
        "    f =next_gameweek[i]\n",
        "    x.append(f) \n",
        "\n",
        "#f4_indices =[52,31,16]\n",
        "##           [7 ,14,30]\n",
        "\n",
        "#T4 features : next matches satistics \n",
        "def add_type4_features(player ,curr_index , gws , x,mode='train'):\n",
        "  if mode == 'train':\n",
        "    f4_indices =[52]#16,31,52\n",
        "  elif mode == 'test':\n",
        "    f4_indices = [30]#7,14,30  \n",
        "  ngw = None\n",
        "  if(len(gws)-4 > curr_index) :\n",
        "    ngw = gws[curr_index:curr_index+3]\n",
        "  else :\n",
        "    ngw = gws[curr_index:]\n",
        "  next_gameweeks =[]\n",
        "  for gw in ngw :\n",
        "    if len(gw.loc[gw[key]==player].values) == 0 :\n",
        "      continue\n",
        "    next_gameweeks.append(gw.loc[gw[key]==player].values[0])\n",
        "  for i in f4_indices :\n",
        "    ls =[row[i] for row in next_gameweeks]\n",
        "    mean = np.array(ls).mean()\n",
        "    x.append(mean) "
      ],
      "execution_count": 0,
      "outputs": []
    },
    {
      "cell_type": "code",
      "metadata": {
        "id": "Lzpma_87ooyg",
        "colab_type": "code",
        "colab": {}
      },
      "source": [
        "class goalkeeper:\n",
        "  def __init__(self,train,out,ids=[]):\n",
        "    self.X = np.array([x for x in train])\n",
        "    self.Y = np.array(out)\n",
        "    self.ID = ids\n",
        "class defender:\n",
        "  def __init__(self,train,out,ids=[]):\n",
        "    self.X = np.array([x for x in train])\n",
        "    self.Y = np.array(out)\n",
        "    self.ID = ids\n",
        "class midfielder:\n",
        "  def __init__(self,train,out,ids=[]):\n",
        "    self.X = np.array([x for x in train])\n",
        "    self.Y = np.array(out)\n",
        "    self.ID = ids\n",
        "class stricker:\n",
        "  def __init__(self,train,out,ids=[]):\n",
        "    self.X = np.array([x for x in train])\n",
        "    self.Y = np.array(out)\n",
        "    self.ID = ids\n",
        "class player:\n",
        "  def __init__(self,g,d,m,s):\n",
        "    self.goalkeeper = g\n",
        "    self.defender = d\n",
        "    self.midefield = m\n",
        "    self.stricker = s"
      ],
      "execution_count": 0,
      "outputs": []
    },
    {
      "cell_type": "code",
      "metadata": {
        "id": "WPqA5yuEThCB",
        "colab_type": "code",
        "outputId": "b2015fe1-0a31-44f5-c2e9-de127495a392",
        "colab": {
          "base_uri": "https://localhost:8080/",
          "height": 1000
        }
      },
      "source": [
        "import time\n",
        "\n",
        "data = {\"gx\":[],\"dx\":[],\"mx\":[],\"sx\":[],\"gy\":[],\"dy\":[],\"my\":[],\"sy\":[]}\n",
        "#adding features\n",
        "maxx = len(training_data)* len(training_data[0])\n",
        "print('total number of gameweeks :',maxx)\n",
        "\n",
        "c = 0\n",
        "c_season = 0\n",
        "for s in training_data :\n",
        "  position = pos[c_season]\n",
        "  c_season+=1\n",
        "  for i in range(0, len(s)-1):\n",
        "    print('gameweek:',i+1)\n",
        "    c+=1\n",
        "    c2=0\n",
        "    for p in s[i]['name']:\n",
        "      Pid = s[i].loc[s[i]['name']==p].values[0][13]\n",
        "      pos_tmp = position.loc[position['id']==Pid]['element_type'].values[0]\n",
        "      c2+=1\n",
        "      x=[]\n",
        "      y=[]\n",
        "      add_type1_features(p,i,s,x)\n",
        "      add_type2_features_position(pos_tmp,p,i,s,x)\n",
        "      add_type3_features(p,i,s,x)\n",
        "      add_type4_features(p,i,s,x)\n",
        "      lim = i+1\n",
        "      if i+1 >= len(s)-1 :\n",
        "        lim = len(s)-1\n",
        "      if len(s[i].loc[s[i]['name']==p].values[0]) > 1:\n",
        "          if len(s[i+1].loc[s[i+1]['name']==p].values) >0: \n",
        "            y=s[i+1].loc[s[i+1]['name']==p].values[0][47]\n",
        "          else:\n",
        "            y = 0\n",
        "          if pos_tmp ==1:\n",
        "            data['gx'].append(x)\n",
        "            data['gy'].append(y)\n",
        "          elif pos_tmp == 2 :\n",
        "            data['dx'].append(x)\n",
        "            data['dy'].append(y)\n",
        "          elif pos_tmp ==3:\n",
        "            data['mx'].append(x)\n",
        "            data['my'].append(y)\n",
        "          elif pos_tmp == 4:\n",
        "            data['sx'].append(x)\n",
        "            data['sy'].append(y)\n",
        "      else:\n",
        "          print(len(s[i].loc[s[i]['name']==p].values),s[i].loc[s[i]['name']==p].values)\n"
      ],
      "execution_count": 0,
      "outputs": [
        {
          "output_type": "stream",
          "text": [
            "total number of gameweeks : 114\n",
            "gameweek: 1\n",
            "gameweek: 2\n",
            "gameweek: 3\n",
            "gameweek: 4\n",
            "gameweek: 5\n",
            "gameweek: 6\n",
            "gameweek: 7\n",
            "gameweek: 8\n",
            "gameweek: 9\n",
            "gameweek: 10\n",
            "gameweek: 11\n",
            "gameweek: 12\n",
            "gameweek: 13\n",
            "gameweek: 14\n",
            "gameweek: 15\n",
            "gameweek: 16\n",
            "gameweek: 17\n",
            "gameweek: 18\n",
            "gameweek: 19\n",
            "gameweek: 20\n",
            "gameweek: 21\n",
            "gameweek: 22\n",
            "gameweek: 23\n",
            "gameweek: 24\n",
            "gameweek: 25\n",
            "gameweek: 26\n",
            "gameweek: 27\n",
            "gameweek: 28\n",
            "gameweek: 29\n",
            "gameweek: 30\n",
            "gameweek: 31\n",
            "gameweek: 32\n",
            "gameweek: 33\n",
            "gameweek: 34\n",
            "gameweek: 35\n",
            "gameweek: 36\n",
            "gameweek: 37\n",
            "gameweek: 1\n",
            "gameweek: 2\n",
            "gameweek: 3\n",
            "gameweek: 4\n",
            "gameweek: 5\n",
            "gameweek: 6\n",
            "gameweek: 7\n",
            "gameweek: 8\n",
            "gameweek: 9\n",
            "gameweek: 10\n",
            "gameweek: 11\n",
            "gameweek: 12\n",
            "gameweek: 13\n",
            "gameweek: 14\n",
            "gameweek: 15\n",
            "gameweek: 16\n",
            "gameweek: 17\n",
            "gameweek: 18\n",
            "gameweek: 19\n",
            "gameweek: 20\n",
            "gameweek: 21\n",
            "gameweek: 22\n",
            "gameweek: 23\n",
            "gameweek: 24\n",
            "gameweek: 25\n",
            "gameweek: 26\n",
            "gameweek: 27\n",
            "gameweek: 28\n",
            "gameweek: 29\n",
            "gameweek: 30\n",
            "gameweek: 31\n",
            "gameweek: 32\n",
            "gameweek: 33\n",
            "gameweek: 34\n",
            "gameweek: 35\n",
            "gameweek: 36\n",
            "gameweek: 37\n",
            "gameweek: 1\n",
            "gameweek: 2\n",
            "gameweek: 3\n",
            "gameweek: 4\n",
            "gameweek: 5\n",
            "gameweek: 6\n",
            "gameweek: 7\n",
            "gameweek: 8\n",
            "gameweek: 9\n",
            "gameweek: 10\n",
            "gameweek: 11\n",
            "gameweek: 12\n",
            "gameweek: 13\n",
            "gameweek: 14\n",
            "gameweek: 15\n",
            "gameweek: 16\n",
            "gameweek: 17\n",
            "gameweek: 18\n",
            "gameweek: 19\n",
            "gameweek: 20\n",
            "gameweek: 21\n",
            "gameweek: 22\n",
            "gameweek: 23\n",
            "gameweek: 24\n",
            "gameweek: 25\n",
            "gameweek: 26\n",
            "gameweek: 27\n",
            "gameweek: 28\n",
            "gameweek: 29\n",
            "gameweek: 30\n",
            "gameweek: 31\n",
            "gameweek: 32\n",
            "gameweek: 33\n",
            "gameweek: 34\n",
            "gameweek: 35\n",
            "gameweek: 36\n",
            "gameweek: 37\n"
          ],
          "name": "stdout"
        }
      ]
    },
    {
      "cell_type": "code",
      "metadata": {
        "id": "TiM-mAebrKM3",
        "colab_type": "code",
        "outputId": "60f5d7d1-72df-4b9b-c765-f81c2d284c53",
        "colab": {
          "base_uri": "https://localhost:8080/",
          "height": 34
        }
      },
      "source": [
        "g = goalkeeper(data['gx'],data['gy'])\n",
        "d = defender(data['dx'],data['dy'])\n",
        "m = midfielder(data['mx'],data['my'])\n",
        "s = stricker(data['sx'],data['sy'])\n",
        "print(len(g.X),len(d.X),len(m.X),len(s.X))\n",
        "wrapper = player(g,d,m,s)"
      ],
      "execution_count": 0,
      "outputs": [
        {
          "output_type": "stream",
          "text": [
            "6829 22062 27446 9645\n"
          ],
          "name": "stdout"
        }
      ]
    },
    {
      "cell_type": "code",
      "metadata": {
        "id": "z0M_hBLMUb_2",
        "colab_type": "code",
        "colab": {}
      },
      "source": [
        "import pickle\n",
        "with open('Input.data', 'wb') as f:\n",
        "  pickle.dump(wrapper,f)\n"
      ],
      "execution_count": 0,
      "outputs": []
    },
    {
      "cell_type": "markdown",
      "metadata": {
        "id": "GRhKCuD6r6Pn",
        "colab_type": "text"
      },
      "source": [
        "# Ready Input (No Need for prepare Input Section)"
      ]
    },
    {
      "cell_type": "code",
      "metadata": {
        "id": "9FosCJTTGm6j",
        "colab_type": "code",
        "outputId": "a162304b-0a79-4b75-f14f-77cb43f79c68",
        "colab": {
          "base_uri": "https://localhost:8080/",
          "height": 102
        }
      },
      "source": [
        "!git clone https://Ahmed-Nasser@bitbucket.org/Ahmed-Nasser/dl_fantasy_data.git"
      ],
      "execution_count": 0,
      "outputs": [
        {
          "output_type": "stream",
          "text": [
            "Cloning into 'dl_fantasy_data'...\n",
            "remote: Counting objects: 45, done.\u001b[K\n",
            "remote: Compressing objects: 100% (43/43), done.\u001b[K\n",
            "remote: Total 45 (delta 11), reused 0 (delta 0)\u001b[K\n",
            "Unpacking objects: 100% (45/45), done.\n"
          ],
          "name": "stdout"
        }
      ]
    },
    {
      "cell_type": "code",
      "metadata": {
        "id": "vIrbnvAlGoN_",
        "colab_type": "code",
        "outputId": "83736258-7929-4100-d9cd-422cfb6a7802",
        "colab": {
          "base_uri": "https://localhost:8080/",
          "height": 34
        }
      },
      "source": [
        "import pickle\n",
        "with open('dl_fantasy_data/Input.data', 'rb') as f:\n",
        "  wrapper = pickle.load(f)\n",
        "print(len(wrapper.goalkeeper.X),len(wrapper.defender.X),len(wrapper.midefield.X),len(wrapper.stricker.X))\n"
      ],
      "execution_count": 0,
      "outputs": [
        {
          "output_type": "stream",
          "text": [
            "6829 22062 27446 9645\n"
          ],
          "name": "stdout"
        }
      ]
    },
    {
      "cell_type": "markdown",
      "metadata": {
        "id": "fDbHXHsNdqNe",
        "colab_type": "text"
      },
      "source": [
        "# MODELS"
      ]
    },
    {
      "cell_type": "code",
      "metadata": {
        "id": "ZNjKjYe-dtea",
        "colab_type": "code",
        "colab": {}
      },
      "source": [
        "models=[]#0 for gk,1 for def,2 for mid,3 for st"
      ],
      "execution_count": 0,
      "outputs": []
    },
    {
      "cell_type": "markdown",
      "metadata": {
        "id": "C7K0e_MsyyBA",
        "colab_type": "text"
      },
      "source": [
        "**GoalKeeper**"
      ]
    },
    {
      "cell_type": "code",
      "metadata": {
        "id": "yrrdWBMhVgd-",
        "colab_type": "code",
        "outputId": "26863aa4-d341-4d95-e6ef-63321fd589e1",
        "colab": {
          "base_uri": "https://localhost:8080/",
          "height": 1000
        }
      },
      "source": [
        "layers = [100]*10\n",
        "activation = ['relu']*len(layers)\n",
        "optimizer = [Adam()]\n",
        "reg = [l2()]*len(layers)\n",
        "losses = ['mean_absolute_error']\n",
        "lrs = [1e-4]\n",
        "input_dim = [len(wrapper.goalkeeper.X),len(wrapper.goalkeeper.X[0])]\n",
        "print(input_dim)\n",
        "gmodel = build_model(input_dim,layers,activation,reg,1,'linear')\n",
        "tune_1(gmodel,wrapper.goalkeeper.X,wrapper.goalkeeper.Y,optimizer,lrs,losses,validation_split = 0.1, plot = True , verbose = 1 , batch_size = 16,epochs=50)\n",
        "models.append(gmodel)"
      ],
      "execution_count": 0,
      "outputs": [
        {
          "output_type": "stream",
          "text": [
            "[6829, 16]\n",
            "6829 16\n",
            "Epoch 1/50\n",
            "385/385 [==============================] - 1s 3ms/step - loss: 7.7264 - acc: 0.6892 - val_loss: 5.8437 - val_acc: 0.6984\n",
            "Epoch 2/50\n",
            "385/385 [==============================] - 1s 3ms/step - loss: 4.6900 - acc: 0.6866 - val_loss: 3.6232 - val_acc: 0.7057\n",
            "Epoch 3/50\n",
            "385/385 [==============================] - 1s 3ms/step - loss: 3.0204 - acc: 0.6891 - val_loss: 2.4000 - val_acc: 0.7057\n",
            "Epoch 4/50\n",
            "385/385 [==============================] - 1s 3ms/step - loss: 2.1106 - acc: 0.6905 - val_loss: 1.7229 - val_acc: 0.7086\n",
            "Epoch 5/50\n",
            "385/385 [==============================] - 1s 3ms/step - loss: 1.6154 - acc: 0.6922 - val_loss: 1.3849 - val_acc: 0.7057\n",
            "Epoch 6/50\n",
            "385/385 [==============================] - 1s 3ms/step - loss: 1.3577 - acc: 0.6915 - val_loss: 1.2223 - val_acc: 0.7042\n",
            "Epoch 7/50\n",
            "385/385 [==============================] - 1s 3ms/step - loss: 1.2261 - acc: 0.6912 - val_loss: 1.0985 - val_acc: 0.7057\n",
            "Epoch 8/50\n",
            "385/385 [==============================] - 1s 3ms/step - loss: 1.1459 - acc: 0.6928 - val_loss: 1.0482 - val_acc: 0.7057\n",
            "Epoch 9/50\n",
            "385/385 [==============================] - 1s 3ms/step - loss: 1.0994 - acc: 0.6920 - val_loss: 0.9950 - val_acc: 0.7086\n",
            "Epoch 10/50\n",
            "385/385 [==============================] - 1s 3ms/step - loss: 1.0626 - acc: 0.6936 - val_loss: 1.0224 - val_acc: 0.7057\n",
            "Epoch 11/50\n",
            "385/385 [==============================] - 1s 3ms/step - loss: 1.0316 - acc: 0.6952 - val_loss: 0.9523 - val_acc: 0.7072\n",
            "Epoch 12/50\n",
            "385/385 [==============================] - 1s 3ms/step - loss: 1.0074 - acc: 0.6944 - val_loss: 0.9202 - val_acc: 0.7116\n",
            "Epoch 13/50\n",
            "385/385 [==============================] - 1s 3ms/step - loss: 0.9897 - acc: 0.6941 - val_loss: 0.9153 - val_acc: 0.7130\n",
            "Epoch 14/50\n",
            "385/385 [==============================] - 1s 3ms/step - loss: 0.9752 - acc: 0.6954 - val_loss: 0.9087 - val_acc: 0.7086\n",
            "Epoch 15/50\n",
            "385/385 [==============================] - 1s 3ms/step - loss: 0.9743 - acc: 0.6962 - val_loss: 0.8947 - val_acc: 0.7086\n",
            "Epoch 16/50\n",
            "385/385 [==============================] - 1s 3ms/step - loss: 0.9513 - acc: 0.6962 - val_loss: 0.9002 - val_acc: 0.7086\n",
            "Epoch 17/50\n",
            "385/385 [==============================] - 1s 3ms/step - loss: 0.9416 - acc: 0.6962 - val_loss: 0.8834 - val_acc: 0.7116\n",
            "Epoch 18/50\n",
            "385/385 [==============================] - 1s 3ms/step - loss: 0.9362 - acc: 0.6977 - val_loss: 0.9087 - val_acc: 0.7072\n",
            "Epoch 19/50\n",
            "385/385 [==============================] - 1s 3ms/step - loss: 0.9349 - acc: 0.6967 - val_loss: 0.8602 - val_acc: 0.7086\n",
            "Epoch 20/50\n",
            "385/385 [==============================] - 1s 3ms/step - loss: 0.9236 - acc: 0.6967 - val_loss: 0.8648 - val_acc: 0.7086\n",
            "Epoch 21/50\n",
            "385/385 [==============================] - 1s 3ms/step - loss: 0.9148 - acc: 0.6977 - val_loss: 0.8554 - val_acc: 0.7116\n",
            "Epoch 22/50\n",
            "385/385 [==============================] - 1s 3ms/step - loss: 0.9098 - acc: 0.6979 - val_loss: 0.8416 - val_acc: 0.7130\n",
            "Epoch 23/50\n",
            "385/385 [==============================] - 1s 3ms/step - loss: 0.9046 - acc: 0.6993 - val_loss: 0.8477 - val_acc: 0.7086\n",
            "Epoch 24/50\n",
            "385/385 [==============================] - 1s 3ms/step - loss: 0.9003 - acc: 0.6995 - val_loss: 0.8531 - val_acc: 0.7086\n",
            "Epoch 25/50\n",
            "385/385 [==============================] - 1s 3ms/step - loss: 0.8956 - acc: 0.6995 - val_loss: 0.8672 - val_acc: 0.7086\n",
            "Epoch 26/50\n",
            "385/385 [==============================] - 1s 3ms/step - loss: 0.8937 - acc: 0.6987 - val_loss: 0.8492 - val_acc: 0.7145\n",
            "Epoch 27/50\n",
            "385/385 [==============================] - 1s 3ms/step - loss: 0.8900 - acc: 0.7008 - val_loss: 0.8718 - val_acc: 0.7086\n",
            "Epoch 28/50\n",
            "385/385 [==============================] - 1s 3ms/step - loss: 0.8898 - acc: 0.6992 - val_loss: 0.8401 - val_acc: 0.7130\n",
            "Epoch 29/50\n",
            "385/385 [==============================] - 1s 3ms/step - loss: 0.8840 - acc: 0.6993 - val_loss: 0.8289 - val_acc: 0.7145\n",
            "Epoch 30/50\n",
            "385/385 [==============================] - 1s 3ms/step - loss: 0.8810 - acc: 0.7013 - val_loss: 0.8283 - val_acc: 0.7101\n",
            "Epoch 31/50\n",
            "385/385 [==============================] - 1s 3ms/step - loss: 0.8789 - acc: 0.7005 - val_loss: 0.8284 - val_acc: 0.7086\n",
            "Epoch 32/50\n",
            "385/385 [==============================] - 1s 3ms/step - loss: 0.8775 - acc: 0.6993 - val_loss: 0.8606 - val_acc: 0.7086\n",
            "Epoch 33/50\n",
            "385/385 [==============================] - 1s 3ms/step - loss: 0.8800 - acc: 0.6998 - val_loss: 0.8337 - val_acc: 0.7145\n",
            "Epoch 34/50\n",
            "385/385 [==============================] - 1s 3ms/step - loss: 0.8738 - acc: 0.7016 - val_loss: 0.8303 - val_acc: 0.7086\n",
            "Epoch 35/50\n",
            "385/385 [==============================] - 1s 3ms/step - loss: 0.8742 - acc: 0.7006 - val_loss: 0.8171 - val_acc: 0.7130\n",
            "Epoch 36/50\n",
            "385/385 [==============================] - 1s 3ms/step - loss: 0.8718 - acc: 0.7013 - val_loss: 0.8220 - val_acc: 0.7101\n",
            "Epoch 37/50\n",
            "385/385 [==============================] - 1s 3ms/step - loss: 0.8710 - acc: 0.7013 - val_loss: 0.8259 - val_acc: 0.7130\n",
            "Epoch 38/50\n",
            "385/385 [==============================] - 1s 3ms/step - loss: 0.8682 - acc: 0.7018 - val_loss: 0.8134 - val_acc: 0.7145\n",
            "Epoch 39/50\n",
            "385/385 [==============================] - 1s 3ms/step - loss: 0.8672 - acc: 0.7008 - val_loss: 0.8116 - val_acc: 0.7101\n",
            "Epoch 40/50\n",
            "385/385 [==============================] - 1s 3ms/step - loss: 0.8727 - acc: 0.7014 - val_loss: 0.8223 - val_acc: 0.7086\n",
            "Epoch 41/50\n",
            "385/385 [==============================] - 1s 3ms/step - loss: 0.8650 - acc: 0.7013 - val_loss: 0.8557 - val_acc: 0.7057\n",
            "Epoch 42/50\n",
            "385/385 [==============================] - 1s 3ms/step - loss: 0.8652 - acc: 0.7009 - val_loss: 0.8198 - val_acc: 0.7101\n",
            "Epoch 43/50\n",
            "385/385 [==============================] - 1s 3ms/step - loss: 0.8636 - acc: 0.7009 - val_loss: 0.8136 - val_acc: 0.7101\n",
            "Epoch 44/50\n",
            "385/385 [==============================] - 1s 3ms/step - loss: 0.8632 - acc: 0.7021 - val_loss: 0.8106 - val_acc: 0.7130\n",
            "Epoch 45/50\n",
            "385/385 [==============================] - 1s 3ms/step - loss: 0.8618 - acc: 0.7013 - val_loss: 0.8212 - val_acc: 0.7086\n",
            "Epoch 46/50\n",
            "385/385 [==============================] - 1s 3ms/step - loss: 0.8652 - acc: 0.7011 - val_loss: 0.8264 - val_acc: 0.7101\n",
            "Epoch 47/50\n",
            "385/385 [==============================] - 1s 3ms/step - loss: 0.8626 - acc: 0.7024 - val_loss: 0.8179 - val_acc: 0.7101\n",
            "Epoch 48/50\n",
            "385/385 [==============================] - 1s 3ms/step - loss: 0.8628 - acc: 0.7019 - val_loss: 0.8164 - val_acc: 0.7130\n",
            "Epoch 49/50\n",
            "385/385 [==============================] - 1s 3ms/step - loss: 0.8600 - acc: 0.7008 - val_loss: 0.8084 - val_acc: 0.7101\n",
            "Epoch 50/50\n",
            "385/385 [==============================] - 1s 3ms/step - loss: 0.8584 - acc: 0.7016 - val_loss: 0.8080 - val_acc: 0.7145\n",
            "('loss_function : mean_absolute_error, optimizer :', '<tensorflow.python.keras.optimizer_v2.adam.Adam object at 0x7fbb027fd6a0>, learning_rate : 0.0001')\n"
          ],
          "name": "stdout"
        },
        {
          "output_type": "display_data",
          "data": {
            "image/png": "[encoded data removed]",
            "text/plain": [
              "<Figure size 432x288 with 1 Axes>"
            ]
          },
          "metadata": {
            "tags": [],
            "needs_background": "light"
          }
        }
      ]
    },
    {
      "cell_type": "markdown",
      "metadata": {
        "id": "XGV0sJ8_1HTz",
        "colab_type": "text"
      },
      "source": [
        "**Defender**"
      ]
    },
    {
      "cell_type": "code",
      "metadata": {
        "id": "G4B2qGs7dZSw",
        "colab_type": "code",
        "outputId": "f9c70859-6ac6-4ff5-b88e-41a06fce02ab",
        "colab": {
          "base_uri": "https://localhost:8080/",
          "height": 1000
        }
      },
      "source": [
        "layers = [200]*4\n",
        "activation = ['relu']*len(layers)\n",
        "optimizer = [Adam()]\n",
        "reg = [l2()]*len(layers)\n",
        "losses = ['mean_absolute_error']\n",
        "lrs = [1e-4]\n",
        "input_dim = [len(wrapper.defender.X),len(wrapper.defender.X[0])]\n",
        "print(input_dim)\n",
        "dmodel = build_model(input_dim,layers,activation,reg,1,'linear')\n",
        "tune_1(dmodel,wrapper.defender.X,wrapper.defender.Y,optimizer,lrs,losses,validation_split = 0.1, plot = True , verbose = 1 , batch_size = 32,epochs=50)\n",
        "models.append(dmodel)"
      ],
      "execution_count": 0,
      "outputs": [
        {
          "output_type": "stream",
          "text": [
            "[22062, 16]\n",
            "22062 16\n",
            "Epoch 1/50\n",
            "621/621 [==============================] - 2s 3ms/step - loss: 4.8049 - acc: 0.6005 - val_loss: 2.9351 - val_acc: 0.6262\n",
            "Epoch 2/50\n",
            "621/621 [==============================] - 2s 3ms/step - loss: 2.2716 - acc: 0.6002 - val_loss: 1.5921 - val_acc: 0.6221\n",
            "Epoch 3/50\n",
            "621/621 [==============================] - 2s 3ms/step - loss: 1.4938 - acc: 0.5982 - val_loss: 1.1986 - val_acc: 0.6226\n",
            "Epoch 4/50\n",
            "621/621 [==============================] - 2s 3ms/step - loss: 1.2706 - acc: 0.5984 - val_loss: 1.0896 - val_acc: 0.6212\n",
            "Epoch 5/50\n",
            "621/621 [==============================] - 2s 3ms/step - loss: 1.2027 - acc: 0.5971 - val_loss: 1.0556 - val_acc: 0.6198\n",
            "Epoch 6/50\n",
            "621/621 [==============================] - 2s 3ms/step - loss: 1.1758 - acc: 0.5981 - val_loss: 1.0337 - val_acc: 0.6203\n",
            "Epoch 7/50\n",
            "621/621 [==============================] - 2s 3ms/step - loss: 1.1629 - acc: 0.5976 - val_loss: 1.0223 - val_acc: 0.6221\n",
            "Epoch 8/50\n",
            "621/621 [==============================] - 2s 3ms/step - loss: 1.1565 - acc: 0.5971 - val_loss: 1.0184 - val_acc: 0.6217\n",
            "Epoch 9/50\n",
            "621/621 [==============================] - 2s 3ms/step - loss: 1.1505 - acc: 0.5977 - val_loss: 1.0175 - val_acc: 0.6212\n",
            "Epoch 10/50\n",
            "621/621 [==============================] - 2s 3ms/step - loss: 1.1472 - acc: 0.5972 - val_loss: 1.0111 - val_acc: 0.6221\n",
            "Epoch 11/50\n",
            "621/621 [==============================] - 2s 3ms/step - loss: 1.1458 - acc: 0.5971 - val_loss: 1.0049 - val_acc: 0.6226\n",
            "Epoch 12/50\n",
            "621/621 [==============================] - 2s 3ms/step - loss: 1.1438 - acc: 0.5974 - val_loss: 1.0104 - val_acc: 0.6226\n",
            "Epoch 13/50\n",
            "621/621 [==============================] - 2s 3ms/step - loss: 1.1410 - acc: 0.5971 - val_loss: 1.0072 - val_acc: 0.6230\n",
            "Epoch 14/50\n",
            "621/621 [==============================] - 2s 3ms/step - loss: 1.1403 - acc: 0.5972 - val_loss: 1.0024 - val_acc: 0.6217\n",
            "Epoch 15/50\n",
            "621/621 [==============================] - 2s 3ms/step - loss: 1.1395 - acc: 0.5968 - val_loss: 1.0024 - val_acc: 0.6230\n",
            "Epoch 16/50\n",
            "621/621 [==============================] - 2s 3ms/step - loss: 1.1368 - acc: 0.5975 - val_loss: 0.9965 - val_acc: 0.6248\n",
            "Epoch 17/50\n",
            "621/621 [==============================] - 2s 3ms/step - loss: 1.1372 - acc: 0.5978 - val_loss: 0.9989 - val_acc: 0.6262\n",
            "Epoch 18/50\n",
            "621/621 [==============================] - 2s 3ms/step - loss: 1.1358 - acc: 0.5978 - val_loss: 0.9989 - val_acc: 0.6230\n",
            "Epoch 19/50\n",
            "621/621 [==============================] - 2s 3ms/step - loss: 1.1343 - acc: 0.5980 - val_loss: 1.0025 - val_acc: 0.6185\n",
            "Epoch 20/50\n",
            "621/621 [==============================] - 2s 3ms/step - loss: 1.1344 - acc: 0.5973 - val_loss: 1.0023 - val_acc: 0.6203\n",
            "Epoch 21/50\n",
            "621/621 [==============================] - 2s 3ms/step - loss: 1.1338 - acc: 0.5977 - val_loss: 0.9990 - val_acc: 0.6230\n",
            "Epoch 22/50\n",
            "621/621 [==============================] - 2s 3ms/step - loss: 1.1338 - acc: 0.5979 - val_loss: 0.9949 - val_acc: 0.6248\n",
            "Epoch 23/50\n",
            "621/621 [==============================] - 2s 3ms/step - loss: 1.1321 - acc: 0.5971 - val_loss: 0.9974 - val_acc: 0.6244\n",
            "Epoch 24/50\n",
            "621/621 [==============================] - 2s 3ms/step - loss: 1.1318 - acc: 0.5980 - val_loss: 0.9934 - val_acc: 0.6257\n",
            "Epoch 25/50\n",
            "621/621 [==============================] - 2s 3ms/step - loss: 1.1315 - acc: 0.5977 - val_loss: 0.9934 - val_acc: 0.6244\n",
            "Epoch 26/50\n",
            "621/621 [==============================] - 2s 3ms/step - loss: 1.1314 - acc: 0.5976 - val_loss: 0.9999 - val_acc: 0.6257\n",
            "Epoch 27/50\n",
            "621/621 [==============================] - 2s 3ms/step - loss: 1.1312 - acc: 0.5982 - val_loss: 0.9891 - val_acc: 0.6257\n",
            "Epoch 28/50\n",
            "621/621 [==============================] - 2s 3ms/step - loss: 1.1303 - acc: 0.5981 - val_loss: 0.9983 - val_acc: 0.6217\n",
            "Epoch 29/50\n",
            "621/621 [==============================] - 2s 3ms/step - loss: 1.1307 - acc: 0.5971 - val_loss: 0.9923 - val_acc: 0.6253\n",
            "Epoch 30/50\n",
            "621/621 [==============================] - 2s 3ms/step - loss: 1.1291 - acc: 0.5982 - val_loss: 0.9917 - val_acc: 0.6244\n",
            "Epoch 31/50\n",
            "621/621 [==============================] - 2s 3ms/step - loss: 1.1296 - acc: 0.5987 - val_loss: 0.9915 - val_acc: 0.6221\n",
            "Epoch 32/50\n",
            "621/621 [==============================] - 2s 3ms/step - loss: 1.1299 - acc: 0.5965 - val_loss: 0.9899 - val_acc: 0.6253\n",
            "Epoch 33/50\n",
            "621/621 [==============================] - 2s 3ms/step - loss: 1.1287 - acc: 0.5975 - val_loss: 0.9884 - val_acc: 0.6257\n",
            "Epoch 34/50\n",
            "621/621 [==============================] - 2s 3ms/step - loss: 1.1287 - acc: 0.5982 - val_loss: 0.9880 - val_acc: 0.6253\n",
            "Epoch 35/50\n",
            "621/621 [==============================] - 2s 3ms/step - loss: 1.1289 - acc: 0.5978 - val_loss: 0.9900 - val_acc: 0.6253\n",
            "Epoch 36/50\n",
            "621/621 [==============================] - 2s 3ms/step - loss: 1.1276 - acc: 0.5975 - val_loss: 0.9904 - val_acc: 0.6226\n",
            "Epoch 37/50\n",
            "621/621 [==============================] - 2s 3ms/step - loss: 1.1272 - acc: 0.5979 - val_loss: 0.9875 - val_acc: 0.6253\n",
            "Epoch 38/50\n",
            "621/621 [==============================] - 2s 3ms/step - loss: 1.1277 - acc: 0.5977 - val_loss: 0.9903 - val_acc: 0.6239\n",
            "Epoch 39/50\n",
            "621/621 [==============================] - 2s 3ms/step - loss: 1.1284 - acc: 0.5976 - val_loss: 0.9864 - val_acc: 0.6253\n",
            "Epoch 40/50\n",
            "621/621 [==============================] - 2s 3ms/step - loss: 1.1270 - acc: 0.5977 - val_loss: 0.9882 - val_acc: 0.6239\n",
            "Epoch 41/50\n",
            "621/621 [==============================] - 2s 3ms/step - loss: 1.1269 - acc: 0.5986 - val_loss: 0.9881 - val_acc: 0.6253\n",
            "Epoch 42/50\n",
            "621/621 [==============================] - 2s 3ms/step - loss: 1.1268 - acc: 0.5975 - val_loss: 0.9873 - val_acc: 0.6244\n",
            "Epoch 43/50\n",
            "621/621 [==============================] - 2s 3ms/step - loss: 1.1270 - acc: 0.5980 - val_loss: 0.9872 - val_acc: 0.6248\n",
            "Epoch 44/50\n",
            "621/621 [==============================] - 2s 3ms/step - loss: 1.1265 - acc: 0.5976 - val_loss: 0.9874 - val_acc: 0.6257\n",
            "Epoch 45/50\n",
            "621/621 [==============================] - 2s 3ms/step - loss: 1.1265 - acc: 0.5981 - val_loss: 0.9891 - val_acc: 0.6257\n",
            "Epoch 46/50\n",
            "621/621 [==============================] - 2s 3ms/step - loss: 1.1258 - acc: 0.5976 - val_loss: 0.9927 - val_acc: 0.6257\n",
            "Epoch 47/50\n",
            "621/621 [==============================] - 2s 3ms/step - loss: 1.1262 - acc: 0.5977 - val_loss: 0.9864 - val_acc: 0.6257\n",
            "Epoch 48/50\n",
            "621/621 [==============================] - 2s 3ms/step - loss: 1.1259 - acc: 0.5976 - val_loss: 0.9854 - val_acc: 0.6253\n",
            "Epoch 49/50\n",
            "621/621 [==============================] - 2s 3ms/step - loss: 1.1253 - acc: 0.5978 - val_loss: 0.9857 - val_acc: 0.6257\n",
            "Epoch 50/50\n",
            "621/621 [==============================] - 2s 3ms/step - loss: 1.1255 - acc: 0.5986 - val_loss: 0.9859 - val_acc: 0.6253\n",
            "('loss_function : mean_absolute_error, optimizer :', '<tensorflow.python.keras.optimizer_v2.adam.Adam object at 0x7fbb0232c748>, learning_rate : 0.0001')\n"
          ],
          "name": "stdout"
        },
        {
          "output_type": "display_data",
          "data": {
            "image/png": "[encoded data removed]",
            "text/plain": [
              "<Figure size 432x288 with 1 Axes>"
            ]
          },
          "metadata": {
            "tags": [],
            "needs_background": "light"
          }
        }
      ]
    },
    {
      "cell_type": "markdown",
      "metadata": {
        "id": "RAYPqM301KSx",
        "colab_type": "text"
      },
      "source": [
        "**Midfield**"
      ]
    },
    {
      "cell_type": "code",
      "metadata": {
        "id": "M07xhSot0o76",
        "colab_type": "code",
        "outputId": "946c2155-5cb5-4ecd-c4ab-a09a0e806170",
        "colab": {
          "base_uri": "https://localhost:8080/",
          "height": 1000
        }
      },
      "source": [
        "layers = [100]*4#the best for midfield\n",
        "activation = ['relu']*len(layers)\n",
        "optimizer = [Adam()]\n",
        "reg = [l2()]*len(layers)\n",
        "losses = ['mean_absolute_error']\n",
        "lrs = [1e-4]\n",
        "input_dim = [len(wrapper.midefield.X),len(wrapper.midefield.X[0])]\n",
        "print(input_dim)\n",
        "mmodel = build_model(input_dim,layers,activation,reg,1,'linear')\n",
        "tune_1(mmodel,wrapper.midefield.X,wrapper.midefield.Y,optimizer,lrs,losses,validation_split = 0.1, plot = True , verbose = 1 , batch_size = 32,epochs=100)  \n",
        "models.append(mmodel)"
      ],
      "execution_count": 0,
      "outputs": [
        {
          "output_type": "stream",
          "text": [
            "[27446, 16]\n",
            "27446 16\n",
            "Epoch 1/100\n",
            "772/772 [==============================] - 2s 2ms/step - loss: 3.1431 - acc: 0.5226 - val_loss: 2.3329 - val_acc: 0.5078\n",
            "Epoch 2/100\n",
            "772/772 [==============================] - 2s 2ms/step - loss: 1.9560 - acc: 0.5202 - val_loss: 1.6424 - val_acc: 0.5093\n",
            "Epoch 3/100\n",
            "772/772 [==============================] - 2s 2ms/step - loss: 1.4854 - acc: 0.5229 - val_loss: 1.3480 - val_acc: 0.5060\n",
            "Epoch 4/100\n",
            "772/772 [==============================] - 2s 2ms/step - loss: 1.2882 - acc: 0.5240 - val_loss: 1.2379 - val_acc: 0.5111\n",
            "Epoch 5/100\n",
            "772/772 [==============================] - 2s 2ms/step - loss: 1.1952 - acc: 0.5247 - val_loss: 1.1598 - val_acc: 0.5155\n",
            "Epoch 6/100\n",
            "772/772 [==============================] - 2s 2ms/step - loss: 1.1443 - acc: 0.5261 - val_loss: 1.1241 - val_acc: 0.5100\n",
            "Epoch 7/100\n",
            "772/772 [==============================] - 2s 2ms/step - loss: 1.1120 - acc: 0.5263 - val_loss: 1.1082 - val_acc: 0.5144\n",
            "Epoch 8/100\n",
            "772/772 [==============================] - 2s 2ms/step - loss: 1.0901 - acc: 0.5274 - val_loss: 1.0829 - val_acc: 0.5158\n",
            "Epoch 9/100\n",
            "772/772 [==============================] - 2s 2ms/step - loss: 1.0750 - acc: 0.5273 - val_loss: 1.0730 - val_acc: 0.5089\n",
            "Epoch 10/100\n",
            "772/772 [==============================] - 2s 2ms/step - loss: 1.0627 - acc: 0.5271 - val_loss: 1.0677 - val_acc: 0.5075\n",
            "Epoch 11/100\n",
            "772/772 [==============================] - 2s 2ms/step - loss: 1.0541 - acc: 0.5274 - val_loss: 1.0548 - val_acc: 0.5140\n",
            "Epoch 12/100\n",
            "772/772 [==============================] - 2s 2ms/step - loss: 1.0476 - acc: 0.5263 - val_loss: 1.0447 - val_acc: 0.5162\n",
            "Epoch 13/100\n",
            "772/772 [==============================] - 2s 2ms/step - loss: 1.0418 - acc: 0.5285 - val_loss: 1.0460 - val_acc: 0.5151\n",
            "Epoch 14/100\n",
            "772/772 [==============================] - 2s 2ms/step - loss: 1.0373 - acc: 0.5279 - val_loss: 1.0437 - val_acc: 0.5100\n",
            "Epoch 15/100\n",
            "772/772 [==============================] - 2s 2ms/step - loss: 1.0329 - acc: 0.5270 - val_loss: 1.0424 - val_acc: 0.5089\n",
            "Epoch 16/100\n",
            "772/772 [==============================] - 2s 2ms/step - loss: 1.0296 - acc: 0.5280 - val_loss: 1.0333 - val_acc: 0.5144\n",
            "Epoch 17/100\n",
            "772/772 [==============================] - 2s 2ms/step - loss: 1.0271 - acc: 0.5275 - val_loss: 1.0342 - val_acc: 0.5151\n",
            "Epoch 18/100\n",
            "772/772 [==============================] - 2s 2ms/step - loss: 1.0246 - acc: 0.5278 - val_loss: 1.0342 - val_acc: 0.5126\n",
            "Epoch 19/100\n",
            "772/772 [==============================] - 2s 2ms/step - loss: 1.0226 - acc: 0.5284 - val_loss: 1.0330 - val_acc: 0.5107\n",
            "Epoch 20/100\n",
            "772/772 [==============================] - 2s 2ms/step - loss: 1.0203 - acc: 0.5282 - val_loss: 1.0275 - val_acc: 0.5082\n",
            "Epoch 21/100\n",
            "772/772 [==============================] - 2s 2ms/step - loss: 1.0190 - acc: 0.5276 - val_loss: 1.0288 - val_acc: 0.5115\n",
            "Epoch 22/100\n",
            "772/772 [==============================] - 2s 2ms/step - loss: 1.0174 - acc: 0.5275 - val_loss: 1.0223 - val_acc: 0.5166\n",
            "Epoch 23/100\n",
            "772/772 [==============================] - 2s 2ms/step - loss: 1.0155 - acc: 0.5280 - val_loss: 1.0291 - val_acc: 0.5118\n",
            "Epoch 24/100\n",
            "772/772 [==============================] - 2s 2ms/step - loss: 1.0150 - acc: 0.5278 - val_loss: 1.0264 - val_acc: 0.5140\n",
            "Epoch 25/100\n",
            "772/772 [==============================] - 2s 2ms/step - loss: 1.0140 - acc: 0.5294 - val_loss: 1.0256 - val_acc: 0.5137\n",
            "Epoch 26/100\n",
            "772/772 [==============================] - 2s 2ms/step - loss: 1.0131 - acc: 0.5284 - val_loss: 1.0253 - val_acc: 0.5188\n",
            "Epoch 27/100\n",
            "772/772 [==============================] - 2s 2ms/step - loss: 1.0119 - acc: 0.5279 - val_loss: 1.0222 - val_acc: 0.5107\n",
            "Epoch 28/100\n",
            "772/772 [==============================] - 2s 2ms/step - loss: 1.0106 - acc: 0.5295 - val_loss: 1.0186 - val_acc: 0.5126\n",
            "Epoch 29/100\n",
            "772/772 [==============================] - 2s 2ms/step - loss: 1.0096 - acc: 0.5292 - val_loss: 1.0256 - val_acc: 0.5104\n",
            "Epoch 30/100\n",
            "772/772 [==============================] - 2s 2ms/step - loss: 1.0094 - acc: 0.5288 - val_loss: 1.0268 - val_acc: 0.5126\n",
            "Epoch 31/100\n",
            "772/772 [==============================] - 2s 2ms/step - loss: 1.0084 - acc: 0.5286 - val_loss: 1.0236 - val_acc: 0.5118\n",
            "Epoch 32/100\n",
            "772/772 [==============================] - 2s 2ms/step - loss: 1.0082 - acc: 0.5286 - val_loss: 1.0179 - val_acc: 0.5166\n",
            "Epoch 33/100\n",
            "772/772 [==============================] - 2s 2ms/step - loss: 1.0074 - acc: 0.5286 - val_loss: 1.0161 - val_acc: 0.5184\n",
            "Epoch 34/100\n",
            "772/772 [==============================] - 2s 2ms/step - loss: 1.0066 - acc: 0.5285 - val_loss: 1.0369 - val_acc: 0.5173\n",
            "Epoch 35/100\n",
            "772/772 [==============================] - 2s 2ms/step - loss: 1.0065 - acc: 0.5291 - val_loss: 1.0169 - val_acc: 0.5111\n",
            "Epoch 36/100\n",
            "772/772 [==============================] - 2s 2ms/step - loss: 1.0059 - acc: 0.5274 - val_loss: 1.0180 - val_acc: 0.5151\n",
            "Epoch 37/100\n",
            "772/772 [==============================] - 2s 2ms/step - loss: 1.0048 - acc: 0.5289 - val_loss: 1.0151 - val_acc: 0.5111\n",
            "Epoch 38/100\n",
            "772/772 [==============================] - 2s 2ms/step - loss: 1.0043 - acc: 0.5288 - val_loss: 1.0146 - val_acc: 0.5093\n",
            "Epoch 39/100\n",
            "772/772 [==============================] - 2s 2ms/step - loss: 1.0044 - acc: 0.5292 - val_loss: 1.0180 - val_acc: 0.5122\n",
            "Epoch 40/100\n",
            "772/772 [==============================] - 2s 2ms/step - loss: 1.0031 - acc: 0.5290 - val_loss: 1.0125 - val_acc: 0.5209\n",
            "Epoch 41/100\n",
            "772/772 [==============================] - 2s 2ms/step - loss: 1.0029 - acc: 0.5290 - val_loss: 1.0226 - val_acc: 0.5100\n",
            "Epoch 42/100\n",
            "772/772 [==============================] - 2s 2ms/step - loss: 1.0027 - acc: 0.5288 - val_loss: 1.0153 - val_acc: 0.5166\n",
            "Epoch 43/100\n",
            "772/772 [==============================] - 2s 2ms/step - loss: 1.0021 - acc: 0.5292 - val_loss: 1.0133 - val_acc: 0.5144\n",
            "Epoch 44/100\n",
            "772/772 [==============================] - 2s 2ms/step - loss: 1.0018 - acc: 0.5300 - val_loss: 1.0117 - val_acc: 0.5158\n",
            "Epoch 45/100\n",
            "772/772 [==============================] - 2s 2ms/step - loss: 1.0016 - acc: 0.5287 - val_loss: 1.0137 - val_acc: 0.5224\n",
            "Epoch 46/100\n",
            "772/772 [==============================] - 2s 2ms/step - loss: 1.0011 - acc: 0.5291 - val_loss: 1.0171 - val_acc: 0.5137\n",
            "Epoch 47/100\n",
            "772/772 [==============================] - 2s 2ms/step - loss: 1.0007 - acc: 0.5285 - val_loss: 1.0230 - val_acc: 0.5082\n",
            "Epoch 48/100\n",
            "772/772 [==============================] - 2s 2ms/step - loss: 1.0000 - acc: 0.5296 - val_loss: 1.0296 - val_acc: 0.5093\n",
            "Epoch 49/100\n",
            "772/772 [==============================] - 2s 2ms/step - loss: 1.0002 - acc: 0.5290 - val_loss: 1.0144 - val_acc: 0.5158\n",
            "Epoch 50/100\n",
            "772/772 [==============================] - 2s 2ms/step - loss: 0.9995 - acc: 0.5291 - val_loss: 1.0237 - val_acc: 0.5089\n",
            "Epoch 51/100\n",
            "772/772 [==============================] - 2s 2ms/step - loss: 0.9996 - acc: 0.5295 - val_loss: 1.0174 - val_acc: 0.5140\n",
            "Epoch 52/100\n",
            "772/772 [==============================] - 2s 2ms/step - loss: 0.9986 - acc: 0.5286 - val_loss: 1.0083 - val_acc: 0.5213\n",
            "Epoch 53/100\n",
            "772/772 [==============================] - 2s 2ms/step - loss: 0.9988 - acc: 0.5296 - val_loss: 1.0180 - val_acc: 0.5137\n",
            "Epoch 54/100\n",
            "772/772 [==============================] - 2s 2ms/step - loss: 0.9980 - acc: 0.5286 - val_loss: 1.0131 - val_acc: 0.5118\n",
            "Epoch 55/100\n",
            "772/772 [==============================] - 2s 2ms/step - loss: 0.9980 - acc: 0.5298 - val_loss: 1.0095 - val_acc: 0.5089\n",
            "Epoch 56/100\n",
            "772/772 [==============================] - 2s 2ms/step - loss: 0.9975 - acc: 0.5291 - val_loss: 1.0081 - val_acc: 0.5202\n",
            "Epoch 57/100\n",
            "772/772 [==============================] - 2s 2ms/step - loss: 0.9978 - acc: 0.5290 - val_loss: 1.0196 - val_acc: 0.5122\n",
            "Epoch 58/100\n",
            "772/772 [==============================] - 2s 2ms/step - loss: 0.9973 - acc: 0.5288 - val_loss: 1.0126 - val_acc: 0.5151\n",
            "Epoch 59/100\n",
            "772/772 [==============================] - 2s 2ms/step - loss: 0.9971 - acc: 0.5292 - val_loss: 1.0137 - val_acc: 0.5166\n",
            "Epoch 60/100\n",
            "772/772 [==============================] - 2s 2ms/step - loss: 0.9971 - acc: 0.5301 - val_loss: 1.0096 - val_acc: 0.5158\n",
            "Epoch 61/100\n",
            "772/772 [==============================] - 2s 2ms/step - loss: 0.9960 - acc: 0.5297 - val_loss: 1.0050 - val_acc: 0.5206\n",
            "Epoch 62/100\n",
            "772/772 [==============================] - 2s 2ms/step - loss: 0.9959 - acc: 0.5291 - val_loss: 1.0042 - val_acc: 0.5195\n",
            "Epoch 63/100\n",
            "772/772 [==============================] - 2s 2ms/step - loss: 0.9961 - acc: 0.5295 - val_loss: 1.0133 - val_acc: 0.5118\n",
            "Epoch 64/100\n",
            "772/772 [==============================] - 2s 2ms/step - loss: 0.9959 - acc: 0.5289 - val_loss: 1.0095 - val_acc: 0.5166\n",
            "Epoch 65/100\n",
            "772/772 [==============================] - 2s 2ms/step - loss: 0.9950 - acc: 0.5291 - val_loss: 1.0166 - val_acc: 0.5111\n",
            "Epoch 66/100\n",
            "772/772 [==============================] - 2s 2ms/step - loss: 0.9950 - acc: 0.5290 - val_loss: 1.0112 - val_acc: 0.5180\n",
            "Epoch 67/100\n",
            "772/772 [==============================] - 2s 2ms/step - loss: 0.9952 - acc: 0.5286 - val_loss: 1.0071 - val_acc: 0.5144\n",
            "Epoch 68/100\n",
            "772/772 [==============================] - 2s 2ms/step - loss: 0.9944 - acc: 0.5303 - val_loss: 1.0115 - val_acc: 0.5148\n",
            "Epoch 69/100\n",
            "772/772 [==============================] - 2s 2ms/step - loss: 0.9943 - acc: 0.5294 - val_loss: 1.0087 - val_acc: 0.5133\n",
            "Epoch 70/100\n",
            "772/772 [==============================] - 2s 2ms/step - loss: 0.9943 - acc: 0.5292 - val_loss: 1.0159 - val_acc: 0.5107\n",
            "Epoch 71/100\n",
            "772/772 [==============================] - 2s 2ms/step - loss: 0.9931 - acc: 0.5294 - val_loss: 1.0057 - val_acc: 0.5173\n",
            "Epoch 72/100\n",
            "772/772 [==============================] - 2s 2ms/step - loss: 0.9939 - acc: 0.5299 - val_loss: 1.0119 - val_acc: 0.5086\n",
            "Epoch 73/100\n",
            "772/772 [==============================] - 2s 2ms/step - loss: 0.9937 - acc: 0.5282 - val_loss: 1.0118 - val_acc: 0.5202\n",
            "Epoch 74/100\n",
            "772/772 [==============================] - 2s 2ms/step - loss: 0.9934 - acc: 0.5296 - val_loss: 1.0074 - val_acc: 0.5140\n",
            "Epoch 75/100\n",
            "772/772 [==============================] - 2s 2ms/step - loss: 0.9929 - acc: 0.5290 - val_loss: 1.0094 - val_acc: 0.5137\n",
            "Epoch 76/100\n",
            "772/772 [==============================] - 2s 2ms/step - loss: 0.9930 - acc: 0.5295 - val_loss: 1.0071 - val_acc: 0.5162\n",
            "Epoch 77/100\n",
            "772/772 [==============================] - 2s 2ms/step - loss: 0.9926 - acc: 0.5302 - val_loss: 1.0158 - val_acc: 0.5169\n",
            "Epoch 78/100\n",
            "772/772 [==============================] - 2s 2ms/step - loss: 0.9923 - acc: 0.5294 - val_loss: 1.0213 - val_acc: 0.5129\n",
            "Epoch 79/100\n",
            "772/772 [==============================] - 2s 2ms/step - loss: 0.9922 - acc: 0.5295 - val_loss: 1.0089 - val_acc: 0.5169\n",
            "Epoch 80/100\n",
            "772/772 [==============================] - 2s 2ms/step - loss: 0.9926 - acc: 0.5296 - val_loss: 1.0107 - val_acc: 0.5107\n",
            "Epoch 81/100\n",
            "772/772 [==============================] - 2s 2ms/step - loss: 0.9919 - acc: 0.5295 - val_loss: 1.0089 - val_acc: 0.5166\n",
            "Epoch 82/100\n",
            "772/772 [==============================] - 2s 2ms/step - loss: 0.9919 - acc: 0.5298 - val_loss: 1.0096 - val_acc: 0.5144\n",
            "Epoch 83/100\n",
            "772/772 [==============================] - 2s 2ms/step - loss: 0.9916 - acc: 0.5298 - val_loss: 1.0167 - val_acc: 0.5089\n",
            "Epoch 84/100\n",
            "772/772 [==============================] - 2s 2ms/step - loss: 0.9908 - acc: 0.5299 - val_loss: 1.0068 - val_acc: 0.5064\n",
            "Epoch 85/100\n",
            "772/772 [==============================] - 2s 2ms/step - loss: 0.9915 - acc: 0.5288 - val_loss: 1.0149 - val_acc: 0.5122\n",
            "Epoch 86/100\n",
            "772/772 [==============================] - 2s 2ms/step - loss: 0.9914 - acc: 0.5293 - val_loss: 1.0140 - val_acc: 0.5151\n",
            "Epoch 87/100\n",
            "772/772 [==============================] - 2s 2ms/step - loss: 0.9907 - acc: 0.5298 - val_loss: 1.0058 - val_acc: 0.5177\n",
            "Epoch 88/100\n",
            "772/772 [==============================] - 2s 2ms/step - loss: 0.9914 - acc: 0.5290 - val_loss: 1.0107 - val_acc: 0.5158\n",
            "Epoch 89/100\n",
            "772/772 [==============================] - 2s 2ms/step - loss: 0.9906 - acc: 0.5296 - val_loss: 1.0197 - val_acc: 0.5118\n",
            "Epoch 90/100\n",
            "772/772 [==============================] - 2s 2ms/step - loss: 0.9902 - acc: 0.5295 - val_loss: 1.0069 - val_acc: 0.5180\n",
            "Epoch 91/100\n",
            "772/772 [==============================] - 2s 2ms/step - loss: 0.9906 - acc: 0.5296 - val_loss: 1.0083 - val_acc: 0.5166\n",
            "Epoch 92/100\n",
            "772/772 [==============================] - 2s 2ms/step - loss: 0.9900 - acc: 0.5300 - val_loss: 1.0060 - val_acc: 0.5191\n",
            "Epoch 93/100\n",
            "772/772 [==============================] - 2s 2ms/step - loss: 0.9906 - acc: 0.5293 - val_loss: 1.0197 - val_acc: 0.5097\n",
            "Epoch 94/100\n",
            "772/772 [==============================] - 2s 2ms/step - loss: 0.9894 - acc: 0.5295 - val_loss: 1.0070 - val_acc: 0.5191\n",
            "Epoch 95/100\n",
            "772/772 [==============================] - 2s 2ms/step - loss: 0.9902 - acc: 0.5298 - val_loss: 1.0154 - val_acc: 0.5177\n",
            "Epoch 96/100\n",
            "772/772 [==============================] - 2s 2ms/step - loss: 0.9898 - acc: 0.5302 - val_loss: 1.0143 - val_acc: 0.5144\n",
            "Epoch 97/100\n",
            "772/772 [==============================] - 2s 2ms/step - loss: 0.9897 - acc: 0.5301 - val_loss: 1.0136 - val_acc: 0.5151\n",
            "Epoch 98/100\n",
            "772/772 [==============================] - 2s 2ms/step - loss: 0.9896 - acc: 0.5294 - val_loss: 1.0130 - val_acc: 0.5155\n",
            "Epoch 99/100\n",
            "772/772 [==============================] - 2s 2ms/step - loss: 0.9887 - acc: 0.5293 - val_loss: 0.9995 - val_acc: 0.5162\n",
            "Epoch 100/100\n",
            "772/772 [==============================] - 2s 2ms/step - loss: 0.9893 - acc: 0.5297 - val_loss: 1.0074 - val_acc: 0.5162\n",
            "('loss_function : mean_absolute_error, optimizer :', '<tensorflow.python.keras.optimizer_v2.adam.Adam object at 0x7fbaf79682e8>, learning_rate : 0.0001')\n"
          ],
          "name": "stdout"
        },
        {
          "output_type": "display_data",
          "data": {
            "image/png": "[encoded data removed]",
            "text/plain": [
              "<Figure size 432x288 with 1 Axes>"
            ]
          },
          "metadata": {
            "tags": [],
            "needs_background": "light"
          }
        }
      ]
    },
    {
      "cell_type": "markdown",
      "metadata": {
        "id": "HLjKaFtk1N-P",
        "colab_type": "text"
      },
      "source": [
        "**striker**"
      ]
    },
    {
      "cell_type": "code",
      "metadata": {
        "id": "exksPTscJiam",
        "colab_type": "code",
        "outputId": "c2018241-c408-44b0-a438-1b8eba7c25b0",
        "colab": {
          "base_uri": "https://localhost:8080/",
          "height": 1000
        }
      },
      "source": [
        "layers = [100]*4\n",
        "activation = ['relu']*len(layers)\n",
        "optimizer = [Adam()]\n",
        "reg = [l2()]*len(layers)\n",
        "losses = ['mean_absolute_error']\n",
        "lrs = [1e-4]\n",
        "input_dim = [len(wrapper.stricker.X),len(wrapper.stricker.X[0])]\n",
        "print(input_dim)\n",
        "smodel = build_model(input_dim,layers,activation,reg,1,'linear')\n",
        "tune_1(smodel,wrapper.stricker.X,wrapper.stricker.Y,optimizer,lrs,losses,validation_split = 0.1, plot = True , verbose = 1 , batch_size = 32,epochs=100)\n",
        "models.append(smodel)"
      ],
      "execution_count": 0,
      "outputs": [
        {
          "output_type": "stream",
          "text": [
            "[9645, 16]\n",
            "9645 16\n",
            "Epoch 1/100\n",
            "272/272 [==============================] - 1s 2ms/step - loss: 3.8379 - acc: 0.5469 - val_loss: 3.4217 - val_acc: 0.5606\n",
            "Epoch 2/100\n",
            "272/272 [==============================] - 1s 2ms/step - loss: 3.1917 - acc: 0.5506 - val_loss: 2.9044 - val_acc: 0.5617\n",
            "Epoch 3/100\n",
            "272/272 [==============================] - 1s 2ms/step - loss: 2.7374 - acc: 0.5505 - val_loss: 2.5127 - val_acc: 0.5648\n",
            "Epoch 4/100\n",
            "272/272 [==============================] - 1s 2ms/step - loss: 2.3936 - acc: 0.5505 - val_loss: 2.2161 - val_acc: 0.5575\n",
            "Epoch 5/100\n",
            "272/272 [==============================] - 1s 2ms/step - loss: 2.1342 - acc: 0.5499 - val_loss: 1.9932 - val_acc: 0.5648\n",
            "Epoch 6/100\n",
            "272/272 [==============================] - 1s 2ms/step - loss: 1.9363 - acc: 0.5509 - val_loss: 1.8241 - val_acc: 0.5637\n",
            "Epoch 7/100\n",
            "272/272 [==============================] - 1s 2ms/step - loss: 1.7865 - acc: 0.5506 - val_loss: 1.6887 - val_acc: 0.5544\n",
            "Epoch 8/100\n",
            "272/272 [==============================] - 1s 2ms/step - loss: 1.6741 - acc: 0.5518 - val_loss: 1.5902 - val_acc: 0.5575\n",
            "Epoch 9/100\n",
            "272/272 [==============================] - 1s 2ms/step - loss: 1.5798 - acc: 0.5520 - val_loss: 1.5124 - val_acc: 0.5554\n",
            "Epoch 10/100\n",
            "272/272 [==============================] - 1s 2ms/step - loss: 1.5063 - acc: 0.5529 - val_loss: 1.4399 - val_acc: 0.5596\n",
            "Epoch 11/100\n",
            "272/272 [==============================] - 1s 2ms/step - loss: 1.4457 - acc: 0.5535 - val_loss: 1.3847 - val_acc: 0.5585\n",
            "Epoch 12/100\n",
            "272/272 [==============================] - 1s 2ms/step - loss: 1.4041 - acc: 0.5545 - val_loss: 1.3402 - val_acc: 0.5627\n",
            "Epoch 13/100\n",
            "272/272 [==============================] - 1s 2ms/step - loss: 1.3592 - acc: 0.5541 - val_loss: 1.3065 - val_acc: 0.5617\n",
            "Epoch 14/100\n",
            "272/272 [==============================] - 1s 2ms/step - loss: 1.3276 - acc: 0.5550 - val_loss: 1.2722 - val_acc: 0.5596\n",
            "Epoch 15/100\n",
            "272/272 [==============================] - 1s 2ms/step - loss: 1.3015 - acc: 0.5533 - val_loss: 1.2487 - val_acc: 0.5648\n",
            "Epoch 16/100\n",
            "272/272 [==============================] - 1s 2ms/step - loss: 1.2740 - acc: 0.5536 - val_loss: 1.2269 - val_acc: 0.5627\n",
            "Epoch 17/100\n",
            "272/272 [==============================] - 1s 2ms/step - loss: 1.2571 - acc: 0.5554 - val_loss: 1.2145 - val_acc: 0.5585\n",
            "Epoch 18/100\n",
            "272/272 [==============================] - 1s 2ms/step - loss: 1.2384 - acc: 0.5543 - val_loss: 1.1924 - val_acc: 0.5544\n",
            "Epoch 19/100\n",
            "272/272 [==============================] - 1s 2ms/step - loss: 1.2262 - acc: 0.5550 - val_loss: 1.1802 - val_acc: 0.5575\n",
            "Epoch 20/100\n",
            "272/272 [==============================] - 1s 2ms/step - loss: 1.2099 - acc: 0.5546 - val_loss: 1.1643 - val_acc: 0.5596\n",
            "Epoch 21/100\n",
            "272/272 [==============================] - 1s 2ms/step - loss: 1.2015 - acc: 0.5547 - val_loss: 1.1648 - val_acc: 0.5596\n",
            "Epoch 22/100\n",
            "272/272 [==============================] - 1s 2ms/step - loss: 1.1917 - acc: 0.5528 - val_loss: 1.1465 - val_acc: 0.5585\n",
            "Epoch 23/100\n",
            "272/272 [==============================] - 1s 2ms/step - loss: 1.1818 - acc: 0.5535 - val_loss: 1.1381 - val_acc: 0.5617\n",
            "Epoch 24/100\n",
            "272/272 [==============================] - 1s 2ms/step - loss: 1.1730 - acc: 0.5538 - val_loss: 1.1361 - val_acc: 0.5648\n",
            "Epoch 25/100\n",
            "272/272 [==============================] - 1s 2ms/step - loss: 1.1665 - acc: 0.5545 - val_loss: 1.1321 - val_acc: 0.5637\n",
            "Epoch 26/100\n",
            "272/272 [==============================] - 1s 2ms/step - loss: 1.1661 - acc: 0.5558 - val_loss: 1.1224 - val_acc: 0.5585\n",
            "Epoch 27/100\n",
            "272/272 [==============================] - 1s 2ms/step - loss: 1.1588 - acc: 0.5535 - val_loss: 1.1143 - val_acc: 0.5637\n",
            "Epoch 28/100\n",
            "272/272 [==============================] - 1s 2ms/step - loss: 1.1520 - acc: 0.5558 - val_loss: 1.1095 - val_acc: 0.5627\n",
            "Epoch 29/100\n",
            "272/272 [==============================] - 1s 2ms/step - loss: 1.1479 - acc: 0.5538 - val_loss: 1.1087 - val_acc: 0.5575\n",
            "Epoch 30/100\n",
            "272/272 [==============================] - 1s 2ms/step - loss: 1.1434 - acc: 0.5555 - val_loss: 1.1057 - val_acc: 0.5699\n",
            "Epoch 31/100\n",
            "272/272 [==============================] - 1s 2ms/step - loss: 1.1383 - acc: 0.5554 - val_loss: 1.1023 - val_acc: 0.5606\n",
            "Epoch 32/100\n",
            "272/272 [==============================] - 1s 2ms/step - loss: 1.1352 - acc: 0.5552 - val_loss: 1.0963 - val_acc: 0.5689\n",
            "Epoch 33/100\n",
            "272/272 [==============================] - 1s 2ms/step - loss: 1.1322 - acc: 0.5566 - val_loss: 1.0932 - val_acc: 0.5544\n",
            "Epoch 34/100\n",
            "272/272 [==============================] - 1s 2ms/step - loss: 1.1349 - acc: 0.5554 - val_loss: 1.0930 - val_acc: 0.5544\n",
            "Epoch 35/100\n",
            "272/272 [==============================] - 1s 2ms/step - loss: 1.1318 - acc: 0.5540 - val_loss: 1.0887 - val_acc: 0.5585\n",
            "Epoch 36/100\n",
            "272/272 [==============================] - 1s 2ms/step - loss: 1.1315 - acc: 0.5553 - val_loss: 1.0868 - val_acc: 0.5565\n",
            "Epoch 37/100\n",
            "272/272 [==============================] - 1s 2ms/step - loss: 1.1227 - acc: 0.5552 - val_loss: 1.0852 - val_acc: 0.5523\n",
            "Epoch 38/100\n",
            "272/272 [==============================] - 1s 2ms/step - loss: 1.1211 - acc: 0.5540 - val_loss: 1.0876 - val_acc: 0.5606\n",
            "Epoch 39/100\n",
            "272/272 [==============================] - 1s 2ms/step - loss: 1.1201 - acc: 0.5561 - val_loss: 1.0814 - val_acc: 0.5534\n",
            "Epoch 40/100\n",
            "272/272 [==============================] - 1s 2ms/step - loss: 1.1181 - acc: 0.5555 - val_loss: 1.0762 - val_acc: 0.5648\n",
            "Epoch 41/100\n",
            "272/272 [==============================] - 1s 2ms/step - loss: 1.1162 - acc: 0.5547 - val_loss: 1.0750 - val_acc: 0.5679\n",
            "Epoch 42/100\n",
            "272/272 [==============================] - 1s 2ms/step - loss: 1.1147 - acc: 0.5567 - val_loss: 1.0756 - val_acc: 0.5575\n",
            "Epoch 43/100\n",
            "272/272 [==============================] - 1s 2ms/step - loss: 1.1117 - acc: 0.5555 - val_loss: 1.0725 - val_acc: 0.5627\n",
            "Epoch 44/100\n",
            "272/272 [==============================] - 1s 2ms/step - loss: 1.1091 - acc: 0.5561 - val_loss: 1.0788 - val_acc: 0.5606\n",
            "Epoch 45/100\n",
            "272/272 [==============================] - 1s 2ms/step - loss: 1.1102 - acc: 0.5574 - val_loss: 1.0741 - val_acc: 0.5585\n",
            "Epoch 46/100\n",
            "272/272 [==============================] - 1s 2ms/step - loss: 1.1114 - acc: 0.5565 - val_loss: 1.0697 - val_acc: 0.5554\n",
            "Epoch 47/100\n",
            "272/272 [==============================] - 1s 2ms/step - loss: 1.1068 - acc: 0.5575 - val_loss: 1.0686 - val_acc: 0.5554\n",
            "Epoch 48/100\n",
            "272/272 [==============================] - 1s 2ms/step - loss: 1.1124 - acc: 0.5566 - val_loss: 1.0675 - val_acc: 0.5596\n",
            "Epoch 49/100\n",
            "272/272 [==============================] - 1s 2ms/step - loss: 1.1061 - acc: 0.5575 - val_loss: 1.0711 - val_acc: 0.5544\n",
            "Epoch 50/100\n",
            "272/272 [==============================] - 1s 2ms/step - loss: 1.1047 - acc: 0.5567 - val_loss: 1.0660 - val_acc: 0.5565\n",
            "Epoch 51/100\n",
            "272/272 [==============================] - 1s 2ms/step - loss: 1.1062 - acc: 0.5563 - val_loss: 1.0661 - val_acc: 0.5544\n",
            "Epoch 52/100\n",
            "272/272 [==============================] - 1s 2ms/step - loss: 1.1027 - acc: 0.5568 - val_loss: 1.0649 - val_acc: 0.5565\n",
            "Epoch 53/100\n",
            "272/272 [==============================] - 1s 2ms/step - loss: 1.1019 - acc: 0.5563 - val_loss: 1.0622 - val_acc: 0.5575\n",
            "Epoch 54/100\n",
            "272/272 [==============================] - 1s 2ms/step - loss: 1.1019 - acc: 0.5567 - val_loss: 1.0646 - val_acc: 0.5554\n",
            "Epoch 55/100\n",
            "272/272 [==============================] - 1s 2ms/step - loss: 1.1003 - acc: 0.5570 - val_loss: 1.0639 - val_acc: 0.5565\n",
            "Epoch 56/100\n",
            "272/272 [==============================] - 1s 2ms/step - loss: 1.0975 - acc: 0.5574 - val_loss: 1.0622 - val_acc: 0.5617\n",
            "Epoch 57/100\n",
            "272/272 [==============================] - 1s 2ms/step - loss: 1.1032 - acc: 0.5561 - val_loss: 1.0619 - val_acc: 0.5658\n",
            "Epoch 58/100\n",
            "272/272 [==============================] - 1s 2ms/step - loss: 1.0982 - acc: 0.5558 - val_loss: 1.0558 - val_acc: 0.5637\n",
            "Epoch 59/100\n",
            "272/272 [==============================] - 1s 2ms/step - loss: 1.0956 - acc: 0.5603 - val_loss: 1.0624 - val_acc: 0.5554\n",
            "Epoch 60/100\n",
            "272/272 [==============================] - 1s 2ms/step - loss: 1.0964 - acc: 0.5579 - val_loss: 1.0616 - val_acc: 0.5554\n",
            "Epoch 61/100\n",
            "272/272 [==============================] - 1s 2ms/step - loss: 1.0973 - acc: 0.5560 - val_loss: 1.0613 - val_acc: 0.5585\n",
            "Epoch 62/100\n",
            "272/272 [==============================] - 1s 2ms/step - loss: 1.0955 - acc: 0.5574 - val_loss: 1.0609 - val_acc: 0.5606\n",
            "Epoch 63/100\n",
            "272/272 [==============================] - 1s 2ms/step - loss: 1.0977 - acc: 0.5575 - val_loss: 1.0565 - val_acc: 0.5596\n",
            "Epoch 64/100\n",
            "272/272 [==============================] - 1s 2ms/step - loss: 1.0947 - acc: 0.5578 - val_loss: 1.0537 - val_acc: 0.5606\n",
            "Epoch 65/100\n",
            "272/272 [==============================] - 1s 2ms/step - loss: 1.0933 - acc: 0.5571 - val_loss: 1.0571 - val_acc: 0.5544\n",
            "Epoch 66/100\n",
            "272/272 [==============================] - 1s 2ms/step - loss: 1.0924 - acc: 0.5570 - val_loss: 1.0611 - val_acc: 0.5585\n",
            "Epoch 67/100\n",
            "272/272 [==============================] - 1s 2ms/step - loss: 1.0939 - acc: 0.5586 - val_loss: 1.0555 - val_acc: 0.5596\n",
            "Epoch 68/100\n",
            "272/272 [==============================] - 1s 2ms/step - loss: 1.0949 - acc: 0.5575 - val_loss: 1.0555 - val_acc: 0.5554\n",
            "Epoch 69/100\n",
            "272/272 [==============================] - 1s 2ms/step - loss: 1.0901 - acc: 0.5589 - val_loss: 1.0547 - val_acc: 0.5596\n",
            "Epoch 70/100\n",
            "272/272 [==============================] - 1s 2ms/step - loss: 1.0923 - acc: 0.5578 - val_loss: 1.0567 - val_acc: 0.5585\n",
            "Epoch 71/100\n",
            "272/272 [==============================] - 1s 2ms/step - loss: 1.0887 - acc: 0.5581 - val_loss: 1.0533 - val_acc: 0.5534\n",
            "Epoch 72/100\n",
            "272/272 [==============================] - 1s 2ms/step - loss: 1.0868 - acc: 0.5592 - val_loss: 1.0548 - val_acc: 0.5596\n",
            "Epoch 73/100\n",
            "272/272 [==============================] - 1s 2ms/step - loss: 1.0888 - acc: 0.5581 - val_loss: 1.0544 - val_acc: 0.5627\n",
            "Epoch 74/100\n",
            "272/272 [==============================] - 1s 2ms/step - loss: 1.0929 - acc: 0.5584 - val_loss: 1.0532 - val_acc: 0.5585\n",
            "Epoch 75/100\n",
            "272/272 [==============================] - 1s 2ms/step - loss: 1.0888 - acc: 0.5593 - val_loss: 1.0560 - val_acc: 0.5596\n",
            "Epoch 76/100\n",
            "272/272 [==============================] - 1s 2ms/step - loss: 1.0867 - acc: 0.5581 - val_loss: 1.0543 - val_acc: 0.5585\n",
            "Epoch 77/100\n",
            "272/272 [==============================] - 1s 2ms/step - loss: 1.0881 - acc: 0.5596 - val_loss: 1.0569 - val_acc: 0.5637\n",
            "Epoch 78/100\n",
            "272/272 [==============================] - 1s 2ms/step - loss: 1.0915 - acc: 0.5596 - val_loss: 1.0518 - val_acc: 0.5585\n",
            "Epoch 79/100\n",
            "272/272 [==============================] - 1s 2ms/step - loss: 1.0838 - acc: 0.5597 - val_loss: 1.0540 - val_acc: 0.5534\n",
            "Epoch 80/100\n",
            "272/272 [==============================] - 1s 2ms/step - loss: 1.0846 - acc: 0.5582 - val_loss: 1.0530 - val_acc: 0.5596\n",
            "Epoch 81/100\n",
            "272/272 [==============================] - 1s 2ms/step - loss: 1.0851 - acc: 0.5590 - val_loss: 1.0537 - val_acc: 0.5637\n",
            "Epoch 82/100\n",
            "272/272 [==============================] - 1s 2ms/step - loss: 1.0857 - acc: 0.5586 - val_loss: 1.0497 - val_acc: 0.5596\n",
            "Epoch 83/100\n",
            "272/272 [==============================] - 1s 2ms/step - loss: 1.0839 - acc: 0.5593 - val_loss: 1.0476 - val_acc: 0.5606\n",
            "Epoch 84/100\n",
            "272/272 [==============================] - 1s 2ms/step - loss: 1.0841 - acc: 0.5582 - val_loss: 1.0456 - val_acc: 0.5679\n",
            "Epoch 85/100\n",
            "272/272 [==============================] - 1s 2ms/step - loss: 1.0817 - acc: 0.5584 - val_loss: 1.0467 - val_acc: 0.5585\n",
            "Epoch 86/100\n",
            "272/272 [==============================] - 1s 2ms/step - loss: 1.0849 - acc: 0.5599 - val_loss: 1.0490 - val_acc: 0.5585\n",
            "Epoch 87/100\n",
            "272/272 [==============================] - 1s 2ms/step - loss: 1.0811 - acc: 0.5592 - val_loss: 1.0473 - val_acc: 0.5596\n",
            "Epoch 88/100\n",
            "272/272 [==============================] - 1s 2ms/step - loss: 1.0845 - acc: 0.5585 - val_loss: 1.0468 - val_acc: 0.5606\n",
            "Epoch 89/100\n",
            "272/272 [==============================] - 1s 2ms/step - loss: 1.0800 - acc: 0.5589 - val_loss: 1.0499 - val_acc: 0.5668\n",
            "Epoch 90/100\n",
            "272/272 [==============================] - 1s 2ms/step - loss: 1.0798 - acc: 0.5589 - val_loss: 1.0416 - val_acc: 0.5648\n",
            "Epoch 91/100\n",
            "272/272 [==============================] - 1s 2ms/step - loss: 1.0852 - acc: 0.5596 - val_loss: 1.0477 - val_acc: 0.5585\n",
            "Epoch 92/100\n",
            "272/272 [==============================] - 1s 2ms/step - loss: 1.0841 - acc: 0.5599 - val_loss: 1.0465 - val_acc: 0.5585\n",
            "Epoch 93/100\n",
            "272/272 [==============================] - 1s 2ms/step - loss: 1.0829 - acc: 0.5586 - val_loss: 1.0452 - val_acc: 0.5596\n",
            "Epoch 94/100\n",
            "272/272 [==============================] - 1s 2ms/step - loss: 1.0804 - acc: 0.5596 - val_loss: 1.0496 - val_acc: 0.5627\n",
            "Epoch 95/100\n",
            "272/272 [==============================] - 1s 2ms/step - loss: 1.0816 - acc: 0.5589 - val_loss: 1.0476 - val_acc: 0.5606\n",
            "Epoch 96/100\n",
            "272/272 [==============================] - 1s 2ms/step - loss: 1.0781 - acc: 0.5597 - val_loss: 1.0524 - val_acc: 0.5575\n",
            "Epoch 97/100\n",
            "272/272 [==============================] - 1s 2ms/step - loss: 1.0817 - acc: 0.5591 - val_loss: 1.0450 - val_acc: 0.5606\n",
            "Epoch 98/100\n",
            "272/272 [==============================] - 1s 2ms/step - loss: 1.0792 - acc: 0.5601 - val_loss: 1.0471 - val_acc: 0.5637\n",
            "Epoch 99/100\n",
            "272/272 [==============================] - 1s 2ms/step - loss: 1.0809 - acc: 0.5608 - val_loss: 1.0470 - val_acc: 0.5596\n",
            "Epoch 100/100\n",
            "272/272 [==============================] - 1s 2ms/step - loss: 1.0788 - acc: 0.5597 - val_loss: 1.0453 - val_acc: 0.5668\n",
            "('loss_function : mean_absolute_error, optimizer :', '<tensorflow.python.keras.optimizer_v2.adam.Adam object at 0x7fbaf4d86128>, learning_rate : 0.0001')\n"
          ],
          "name": "stdout"
        },
        {
          "output_type": "display_data",
          "data": {
            "image/png": "[encoded data removed]",
            "text/plain": [
              "<Figure size 432x288 with 1 Axes>"
            ]
          },
          "metadata": {
            "tags": [],
            "needs_background": "light"
          }
        }
      ]
    },
    {
      "cell_type": "markdown",
      "metadata": {
        "id": "3y6rgk0hI7lQ",
        "colab_type": "text"
      },
      "source": [
        "# Prepare Testing Data"
      ]
    },
    {
      "cell_type": "code",
      "metadata": {
        "id": "oyI6m37xzEdT",
        "colab_type": "code",
        "colab": {}
      },
      "source": [
        "current_season = ['2019-20']\n",
        "num_of_test_gws = 29\n",
        "test_data,positions = load_training_set(current_season,num_of_test_gws)"
      ],
      "execution_count": 0,
      "outputs": []
    },
    {
      "cell_type": "code",
      "metadata": {
        "id": "oB2h2rVqzGWa",
        "colab_type": "code",
        "outputId": "e4eef35c-8b61-4b1b-9465-662758646024",
        "colab": {
          "base_uri": "https://localhost:8080/",
          "height": 102
        }
      },
      "source": [
        "to_numeric(test_data)\n",
        "test_data = normalize(test_data)"
      ],
      "execution_count": 0,
      "outputs": [
        {
          "output_type": "stream",
          "text": [
            "/usr/local/lib/python3.6/dist-packages/ipykernel_launcher.py:14: SettingWithCopyWarning: \n",
            "A value is trying to be set on a copy of a slice from a DataFrame\n",
            "\n",
            "See the caveats in the documentation: https://pandas.pydata.org/pandas-docs/stable/user_guide/indexing.html#returning-a-view-versus-a-copy\n",
            "  \n"
          ],
          "name": "stderr"
        }
      ]
    },
    {
      "cell_type": "code",
      "metadata": {
        "id": "Yypx6Uwqz5Qr",
        "colab_type": "code",
        "colab": {}
      },
      "source": [
        "# gm = [l.get_weights() for l in gmodel.layers]\n",
        "# with open('GModel.data', 'wb') as m:\n",
        "#   pickle.dump(gm,m)\n",
        "# dm = [l.get_weights() for l in dmodel.layers]\n",
        "# with open('DModel.data', 'wb') as d:\n",
        "#   pickle.dump(dm,d)\n",
        "# mm = [l.get_weights() for l in mmodel.layers]\n",
        "# with open('MModel.data', 'wb') as g:\n",
        "#   pickle.dump(mm,g)\n",
        "# sm = [l.get_weights() for l in smodel.layers]\n",
        "# with open('SModel.data', 'wb') as s:\n",
        "#   pickle.dump(sm,s)"
      ],
      "execution_count": 0,
      "outputs": []
    },
    {
      "cell_type": "code",
      "metadata": {
        "id": "aplqdJgG1eI6",
        "colab_type": "code",
        "colab": {}
      },
      "source": [
        "def compute_step(X,W,b,last):\n",
        "  Z = np.add(np.dot(W.T,X) , np.array([b] * X.shape[1]).T)\n",
        "  if last :\n",
        "    return Z\n",
        "  else :\n",
        "    return np.maximum(Z,np.zeros(Z.shape))\n",
        "\n",
        "def predict(X,layers):\n",
        "  A = np.copy(X.T)\n",
        "  for i in range(0,len(layers)):    \n",
        "    A = compute_step(A,layers[i].get_weights()[0],layers[i].get_weights()[1],i==(len(layers)-1) or i == 0)\n",
        "  return A"
      ],
      "execution_count": 0,
      "outputs": []
    },
    {
      "cell_type": "markdown",
      "metadata": {
        "id": "ULk7sA2V0K2R",
        "colab_type": "text"
      },
      "source": [
        "# Evaluating"
      ]
    },
    {
      "cell_type": "code",
      "metadata": {
        "id": "Ma6yNza-O0vh",
        "colab_type": "code",
        "colab": {}
      },
      "source": [
        "def add_features_test(gws=[29]):\n",
        "  data = {\"gx\":[],\"dx\":[],\"mx\":[],\"sx\":[],\"gy\":[],\"dy\":[],\"my\":[],\"sy\":[],\"gid\":[],\"did\":[],\"mid\":[],\"sid\":[]}\n",
        "  print('total number of gameweeks :',len(gws))\n",
        "  c_season = 0\n",
        "  for s in test_data :\n",
        "    position = positions[c_season]\n",
        "    c_season+=1\n",
        "    for i in gws:\n",
        "      print('gameweek:',i)\n",
        "      i=i-1\n",
        "      for p in s[i-1]['name']:\n",
        "        Pid = s[i-1].loc[s[i-1]['name']==p].values[0][6]\n",
        "        pos_tmp = position.loc[position['id']==Pid]['element_type'].values[0]\n",
        "        x=[]\n",
        "        y=[]\n",
        "        add_type1_features(p,i-1,s,x,'test')\n",
        "        add_type2_features_position(pos_tmp,p,i-1,s,x,'test')\n",
        "        add_type3_features(p,i-1,s,x,'test')\n",
        "        add_type4_features(p,i-1,s,x,'test')\n",
        "\n",
        "        if len(s[i].loc[s[i]['name']==p].values) >0: \n",
        "          y=s[i].loc[s[i]['name']==p].values[0][25]\n",
        "        else:\n",
        "          y = 0\n",
        "        if pos_tmp ==1:\n",
        "          data['gx'].append(x)\n",
        "          data['gy'].append(y)\n",
        "          data['gid'].append(Pid)\n",
        "        elif pos_tmp == 2 :\n",
        "          data['dx'].append(x)\n",
        "          data['dy'].append(y)\n",
        "          data['did'].append(Pid)\n",
        "        elif pos_tmp ==3:\n",
        "          data['mx'].append(x)\n",
        "          data['my'].append(y)\n",
        "          data['mid'].append(Pid)\n",
        "        elif pos_tmp == 4:\n",
        "          data['sx'].append(x)\n",
        "          data['sy'].append(y)\n",
        "          data['sid'].append(Pid)\n",
        "\n",
        "  return data"
      ],
      "execution_count": 0,
      "outputs": []
    },
    {
      "cell_type": "code",
      "metadata": {
        "id": "-7ytn3X9zh0l",
        "colab_type": "code",
        "outputId": "a62c2b18-979c-4f35-85d6-9a4bf3051785",
        "colab": {
          "base_uri": "https://localhost:8080/",
          "height": 68
        }
      },
      "source": [
        "next_game_week_test = 29\n",
        "test = add_features_test([next_game_week_test])\n",
        "g = goalkeeper(test['gx'],test['gy'],test['gid'])\n",
        "d = defender(test['dx'],test['dy'],test['did'])\n",
        "m = midfielder(test['mx'],test['my'],test['mid'])\n",
        "s = stricker(test['sx'],test['sy'],test['sid'])\n",
        "print(len(g.X),len(d.X),len(m.X),len(s.X))\n",
        "test_dict = player(g,d,m,s)"
      ],
      "execution_count": 0,
      "outputs": [
        {
          "output_type": "stream",
          "text": [
            "total number of gameweeks : 1\n",
            "gameweek: 29\n",
            "57 165 214 68\n"
          ],
          "name": "stdout"
        }
      ]
    },
    {
      "cell_type": "code",
      "metadata": {
        "id": "MvYPvE0qjqVC",
        "colab_type": "code",
        "colab": {}
      },
      "source": [
        "# import pickle\n",
        "# with open('test_dic.data', 'wb') as h:\n",
        "#   pickle.dump(test,h)"
      ],
      "execution_count": 0,
      "outputs": []
    },
    {
      "cell_type": "code",
      "metadata": {
        "id": "HYdwQboFjpJd",
        "colab_type": "code",
        "outputId": "83b7f01f-4321-4e09-9b70-db00bd8004e9",
        "colab": {
          "base_uri": "https://localhost:8080/",
          "height": 238
        }
      },
      "source": [
        "Y_pred =gmodel.predict(test_dict.goalkeeper.X)\n",
        "indices = sorted( [(x,i) for (i,x) in enumerate([c[0] for c in Y_pred])], reverse=True )[:5]\n",
        "actual =  sorted( [(x,i) for (i,x) in enumerate([c for c in test_dict.goalkeeper.Y])], reverse=True )[:5]\n",
        "for i in range(0,len(indices)):\n",
        "  tmpId = test_dict.goalkeeper.ID[indices[i][1]]\n",
        "  print(test_data[0][next_game_week_test-1].loc[test_data[0][next_game_week_test-1]['element']==tmpId].values[0][0],\"With Actual Points:\",test_data[0][next_game_week_test-1].loc[test_data[0][next_game_week_test-1]['element']==tmpId].values[0][25],\"with Predicted Points:\",indices[i][0])\n",
        "print(\"\\nThe Actual Data\\n\")\n",
        "for i in range(0,len(indices)):\n",
        "  actId = test_dict.goalkeeper.ID[actual[i][1]]\n",
        "  print(test_data[0][next_game_week_test-1].loc[test_data[0][next_game_week_test-1]['element']==actId].values[0][0],\"With Actual Points:\",actual[i][0])"
      ],
      "execution_count": 0,
      "outputs": [
        {
          "output_type": "stream",
          "text": [
            "Alisson_Ramses Becker_189 With Actual Points: 0 with Predicted Points: 2.1553814\n",
            "Nick_Pope_93 With Actual Points: 2 with Predicted Points: 2.1387937\n",
            "Rui Pedro_dos Santos PatrÃ­cio_411 With Actual Points: 6 with Predicted Points: 2.1151083\n",
            "Alex_McCarthy_318 With Actual Points: 12 with Predicted Points: 2.1030354\n",
            "Ben_Foster_366 With Actual Points: 2 with Predicted Points: 2.0927765\n",
            "\n",
            "The Actual Data\n",
            "\n",
            "Alex_McCarthy_318 With Actual Points: 12\n",
            "Vicente_Guaita_131 With Actual Points: 10\n",
            "David_de Gea_235 With Actual Points: 9\n",
            "Martin_Dubravka_262 With Actual Points: 8\n",
            "Mathew_Ryan_47 With Actual Points: 7\n"
          ],
          "name": "stdout"
        }
      ]
    },
    {
      "cell_type": "code",
      "metadata": {
        "id": "naN-XZ6vnGN0",
        "colab_type": "code",
        "outputId": "bd0e49c7-2885-4abe-9b38-95f6ad0d3dca",
        "colab": {
          "base_uri": "https://localhost:8080/",
          "height": 238
        }
      },
      "source": [
        "Y_pred =dmodel.predict(test_dict.defender.X)\n",
        "indices = sorted( [(x,i) for (i,x) in enumerate([c[0] for c in Y_pred])], reverse=True )[:5]\n",
        "actual =  sorted( [(x,i) for (i,x) in enumerate([c for c in test_dict.defender.Y])], reverse=True )[:5]\n",
        "for i in range(0,len(indices)):\n",
        "  tmpId = test_dict.defender.ID[indices[i][1]]\n",
        "  print(test_data[0][next_game_week_test-1].loc[test_data[0][next_game_week_test-1]['element']==tmpId].values[0][0],\"With Actual Points:\",test_data[0][next_game_week_test-1].loc[test_data[0][next_game_week_test-1]['element']==tmpId].values[0][25],\"with Predicted Points:\",indices[i][0])\n",
        "print(\"\\nThe Actual Data\\n\")\n",
        "for i in range(0,len(indices)):\n",
        "  actId = test_dict.defender.ID[actual[i][1]]\n",
        "  print(test_data[0][next_game_week_test-1].loc[test_data[0][next_game_week_test-1]['element']==actId].values[0][0],\"With Actual Points:\",actual[i][0])"
      ],
      "execution_count": 0,
      "outputs": [
        {
          "output_type": "stream",
          "text": [
            "Harry_Maguire_160 With Actual Points: 5 with Predicted Points: 6.683214\n",
            "James_Tarkowski_84 With Actual Points: 1 with Predicted Points: 6.4844127\n",
            "Javier_Manquillo_256 With Actual Points: 5 with Predicted Points: 5.4405003\n",
            "MartÃ­n_Montoya_38 With Actual Points: 5 with Predicted Points: 5.0823336\n",
            "Jack_Stephens_308 With Actual Points: 2 with Predicted Points: 4.259102\n",
            "\n",
            "The Actual Data\n",
            "\n",
            "Victor_LindelÃ¶f_225 With Actual Points: 9\n",
            "Scott_Dann_127 With Actual Points: 8\n",
            "Romain_SaÃ¯ss_407 With Actual Points: 8\n",
            "Willy_Boly_405 With Actual Points: 8\n",
            "Aaron_Wan-Bissaka_122 With Actual Points: 7\n"
          ],
          "name": "stdout"
        }
      ]
    },
    {
      "cell_type": "code",
      "metadata": {
        "id": "QarQYG9IoHlx",
        "colab_type": "code",
        "outputId": "09e80dd7-f052-49b1-818c-0a231587ebfb",
        "colab": {
          "base_uri": "https://localhost:8080/",
          "height": 238
        }
      },
      "source": [
        "Y_pred =mmodel.predict(test_dict.midefield.X)\n",
        "indices = sorted( [(x,i) for (i,x) in enumerate([c[0] for c in Y_pred])], reverse=True )[:5]\n",
        "actual =  sorted( [(x,i) for (i,x) in enumerate([c for c in test_dict.midefield.Y])], reverse=True )[:5]\n",
        "for i in range(0,len(indices)):\n",
        "  tmpId = test_dict.midefield.ID[indices[i][1]]\n",
        "  print(test_data[0][next_game_week_test-1].loc[test_data[0][next_game_week_test-1]['element']==tmpId].values[0][0],\"With Actual Points:\",test_data[0][next_game_week_test-1].loc[test_data[0][next_game_week_test-1]['element']==tmpId].values[0][25],\"with Predicted Points:\",indices[i][0])\n",
        "print(\"\\nThe Actual Data\\n\")\n",
        "for i in range(0,len(indices)):\n",
        "  actId = test_dict.midefield.ID[actual[i][1]]\n",
        "  print(test_data[0][next_game_week_test-1].loc[test_data[0][next_game_week_test-1]['element']==actId].values[0][0],\"With Actual Points:\",actual[i][0])"
      ],
      "execution_count": 0,
      "outputs": [
        {
          "output_type": "stream",
          "text": [
            "Giovani_Lo Celso_523 With Actual Points: 0 with Predicted Points: 7.5912504\n",
            "Dennis_Praet_517 With Actual Points: 2 with Predicted Points: 7.1463575\n",
            "Frederico_Rodrigues de Paula Santos_244 With Actual Points: 2 with Predicted Points: 6.939159\n",
            "Wilfried_Zaha_133 With Actual Points: 2 with Predicted Points: 4.9450855\n",
            "Ashley_Westwood_101 With Actual Points: 1 with Predicted Points: 3.908645\n",
            "\n",
            "The Actual Data\n",
            "\n",
            "Harvey_Barnes_172 With Actual Points: 19\n",
            "Willian_Borges Da Silva_113 With Actual Points: 13\n",
            "Sadio_ManÃ©_192 With Actual Points: 13\n",
            "Pedro_RodrÃ­guez Ledesma_114 With Actual Points: 12\n",
            "Ross_Barkley_117 With Actual Points: 12\n"
          ],
          "name": "stdout"
        }
      ]
    },
    {
      "cell_type": "code",
      "metadata": {
        "id": "sejPdoQl5JU_",
        "colab_type": "code",
        "outputId": "2e062a3f-23cb-4edf-d646-f907d365a4a1",
        "colab": {
          "base_uri": "https://localhost:8080/",
          "height": 238
        }
      },
      "source": [
        "Y_pred =smodel.predict(test_dict.stricker.X)\n",
        "indices = sorted( [(x,i) for (i,x) in enumerate([c[0] for c in Y_pred])], reverse=True )[:5]\n",
        "actual =  sorted( [(x,i) for (i,x) in enumerate([c for c in test_dict.stricker.Y])], reverse=True )[:5]\n",
        "for i in range(0,len(indices)):\n",
        "  tmpId = test_dict.stricker.ID[indices[i][1]]\n",
        "  print(test_data[0][next_game_week_test-1].loc[test_data[0][next_game_week_test-1]['element']==tmpId].values[0][0],\"With Actual Points:\",test_data[0][next_game_week_test-1].loc[test_data[0][next_game_week_test-1]['element']==tmpId].values[0][25],\"with Predicted Points:\",indices[i][0])\n",
        "print(\"\\nThe Actual Data\\n\")\n",
        "for i in range(0,len(indices)):\n",
        "  actId = test_dict.stricker.ID[actual[i][1]]\n",
        "  print(test_data[0][next_game_week_test-1].loc[test_data[0][next_game_week_test-1]['element']==actId].values[0][0],\"With Actual Points:\",actual[i][0])"
      ],
      "execution_count": 0,
      "outputs": [
        {
          "output_type": "stream",
          "text": [
            "Callum_Wilson_67 With Actual Points: 5 with Predicted Points: 6.4770455\n",
            "Christian_Benteke_129 With Actual Points: 1 with Predicted Points: 5.7321324\n",
            "Joelinton CÃ¡ssio_ApolinÃ¡rio de Lira_466 With Actual Points: 0 with Predicted Points: 3.1414714\n",
            "Dwight_Gayle_554 With Actual Points: 2 with Predicted Points: 3.0779872\n",
            "Troy_Deeney_362 With Actual Points: 2 with Predicted Points: 2.2273693\n",
            "\n",
            "The Actual Data\n",
            "\n",
            "Jamie_Vardy_166 With Actual Points: 11\n",
            "Chris_Wood_91 With Actual Points: 9\n",
            "Olivier_Giroud_110 With Actual Points: 6\n",
            "Jordan_Ayew_468 With Actual Points: 6\n",
            "Jay_Rodriguez_451 With Actual Points: 5\n"
          ],
          "name": "stdout"
        }
      ]
    },
    {
      "cell_type": "markdown",
      "metadata": {
        "id": "ZTxIwUONZ8Fz",
        "colab_type": "text"
      },
      "source": [
        "# Deployment"
      ]
    },
    {
      "cell_type": "code",
      "metadata": {
        "id": "l6zou-CfVdPv",
        "colab_type": "code",
        "colab": {}
      },
      "source": [
        "import requests\n",
        "team_id = 531277\n",
        "try:\n",
        "    entry_season_request = requests.get(f'https://fantasy.premierleague.com/api/entry/{team_id}/event/{next_game_week_test-1}/picks/')\n",
        "    entry_season_data = entry_season_request.json()\n",
        "    entry_season_data['entry'] = team_id\n",
        "    entry_season_data['event'] = next_game_week_test-1\n",
        "except Exception as e:\n",
        "  print(\"Error in request\")\n",
        "team = entry_season_data['picks']"
      ],
      "execution_count": 0,
      "outputs": []
    },
    {
      "cell_type": "code",
      "metadata": {
        "id": "nrWks_1aeN2s",
        "colab_type": "code",
        "colab": {}
      },
      "source": [
        "def get_player_type(pid):\n",
        "  return positions[0].loc[positions[0]['id']==pid]['element_type'].values[0]\n",
        "def compare(Y_pred,points,val,ids):\n",
        "  ind = -1\n",
        "  for i in range(0,len(Y_pred)):\n",
        "    pid = ids[i]\n",
        "    new_val = test_data[0][next_game_week_test-1].loc[test_data[0][next_game_week_test-1]['element']==pid].values[0][29]\n",
        "    if (Y_pred[i][0]>points and new_val<=val):\n",
        "      points = Y_pred[i][0]\n",
        "      ind = i\n",
        "  return ind\n",
        "\n",
        "def get_best_transfer(position,pid):\n",
        "  old_name = test_data[0][next_game_week_test-1].loc[test_data[0][next_game_week_test-1]['element']==pid].values[0][0]\n",
        "  old_val =  test_data[0][next_game_week_test-1].loc[test_data[0][next_game_week_test-1]['element']==pid].values[0][29]\n",
        "  if position ==1:\n",
        "    if(pid not in test_dict.goalkeeper.ID):\n",
        "       return\n",
        "    ind = test_dict.goalkeeper.ID.index(pid)\n",
        "    Y_pred =gmodel.predict(test_dict.goalkeeper.X)\n",
        "    old_points = Y_pred[ind][0]\n",
        "    new_ind = compare(Y_pred,old_points,old_val,test_dict.goalkeeper.ID)\n",
        "    new_id = test_dict.goalkeeper.ID[new_ind]\n",
        "    new_points = Y_pred[new_ind]\n",
        "    new_name = test_data[0][next_game_week_test-1].loc[test_data[0][next_game_week_test-1]['element']==new_id].values[0][0]\n",
        "    #new_val =  test_data[0][next_game_week_test-1].loc[test_data[0][next_game_week_test-1]['element']==new_id].values[0][29]\n",
        "  elif position == 2 :\n",
        "    if(pid not in test_dict.defender.ID):\n",
        "       return\n",
        "    ind = test_dict.defender.ID.index(pid)\n",
        "    Y_pred =dmodel.predict(test_dict.defender.X)\n",
        "    old_points = Y_pred[ind][0]\n",
        "    new_ind = compare(Y_pred,old_points,old_val,test_dict.defender.ID)\n",
        "    new_id = test_dict.defender.ID[new_ind]\n",
        "    new_points = Y_pred[new_ind]\n",
        "    new_name = test_data[0][next_game_week_test-1].loc[test_data[0][next_game_week_test-1]['element']==new_id].values[0][0]\n",
        "    #new_val =  test_data[0][next_game_week_test-1].loc[test_data[0][next_game_week_test-1]['element']==new_id].values[0][29]\n",
        "  elif position ==3:\n",
        "    if(pid not in test_dict.midefield.ID):\n",
        "      return\n",
        "    ind = test_dict.midefield.ID.index(pid)\n",
        "    Y_pred =mmodel.predict(test_dict.midefield.X)\n",
        "    old_points = Y_pred[ind][0]\n",
        "    new_ind = compare(Y_pred,old_points,old_val,test_dict.midefield.ID)\n",
        "    new_id = test_dict.midefield.ID[new_ind]\n",
        "    new_points = Y_pred[new_ind]\n",
        "    new_name = test_data[0][next_game_week_test-1].loc[test_data[0][next_game_week_test-1]['element']==new_id].values[0][0]\n",
        "    #new_val =  test_data[0][next_game_week_test-1].loc[test_data[0][next_game_week_test-1]['element']==new_id].values[0][29]\n",
        "  elif position == 4:\n",
        "    if(pid not in test_dict.stricker.ID):\n",
        "      return\n",
        "    ind = test_dict.stricker.ID.index(pid)\n",
        "    Y_pred =smodel.predict(test_dict.stricker.X)\n",
        "    old_points = Y_pred[ind][0]\n",
        "    new_ind = compare(Y_pred,old_points,old_val,test_dict.stricker.ID)\n",
        "    new_id = test_dict.stricker.ID[new_ind]\n",
        "    new_points = Y_pred[new_ind]\n",
        "    new_name = test_data[0][next_game_week_test-1].loc[test_data[0][next_game_week_test-1]['element']==new_id].values[0][0]\n",
        "    #new_val =  test_data[0][next_game_week_test-1].loc[test_data[0][next_game_week_test-1]['element']==new_id].values[0][29]\n",
        "  #print(\"Replace:\",\"(\",old_name,\",\",old_points,\",\",old_val,\")\",\" >> \",\"(\",new_name,\",\",new_points,\",\",new_val,\")\")\n",
        "  print(old_name,old_points,\" >> \",new_name ,new_points)\n",
        "\n",
        "\n"
      ],
      "execution_count": 0,
      "outputs": []
    },
    {
      "cell_type": "code",
      "metadata": {
        "id": "ZnqlfkOzf6HB",
        "colab_type": "code",
        "outputId": "6e9e900a-36ff-400a-bd91-7b9f9e7d2431",
        "colab": {
          "base_uri": "https://localhost:8080/",
          "height": 316
        }
      },
      "source": [
        "for player in team:\n",
        "  p_type = get_player_type(player['element'])\n",
        "  get_best_transfer(p_type,player['element'])\n"
      ],
      "execution_count": 0,
      "outputs": [
        {
          "output_type": "error",
          "ename": "NameError",
          "evalue": "ignored",
          "traceback": [
            "\u001b[0;31m---------------------------------------------------------------------------\u001b[0m",
            "\u001b[0;31mNameError\u001b[0m                                 Traceback (most recent call last)",
            "\u001b[0;32m<ipython-input-24-2ce1a6f772f8>\u001b[0m in \u001b[0;36m<module>\u001b[0;34m()\u001b[0m\n\u001b[1;32m      1\u001b[0m \u001b[0;32mfor\u001b[0m \u001b[0mplayer\u001b[0m \u001b[0;32min\u001b[0m \u001b[0mteam\u001b[0m\u001b[0;34m:\u001b[0m\u001b[0;34m\u001b[0m\u001b[0;34m\u001b[0m\u001b[0m\n\u001b[1;32m      2\u001b[0m   \u001b[0mp_type\u001b[0m \u001b[0;34m=\u001b[0m \u001b[0mget_player_type\u001b[0m\u001b[0;34m(\u001b[0m\u001b[0mplayer\u001b[0m\u001b[0;34m[\u001b[0m\u001b[0;34m'element'\u001b[0m\u001b[0;34m]\u001b[0m\u001b[0;34m)\u001b[0m\u001b[0;34m\u001b[0m\u001b[0;34m\u001b[0m\u001b[0m\n\u001b[0;32m----> 3\u001b[0;31m   \u001b[0mget_best_transfer\u001b[0m\u001b[0;34m(\u001b[0m\u001b[0mp_type\u001b[0m\u001b[0;34m,\u001b[0m\u001b[0mplayer\u001b[0m\u001b[0;34m[\u001b[0m\u001b[0;34m'element'\u001b[0m\u001b[0;34m]\u001b[0m\u001b[0;34m)\u001b[0m\u001b[0;34m\u001b[0m\u001b[0;34m\u001b[0m\u001b[0m\n\u001b[0m",
            "\u001b[0;32m<ipython-input-23-a37f02a1ad2b>\u001b[0m in \u001b[0;36mget_best_transfer\u001b[0;34m(position, pid)\u001b[0m\n\u001b[1;32m     18\u001b[0m        \u001b[0;32mreturn\u001b[0m\u001b[0;34m\u001b[0m\u001b[0;34m\u001b[0m\u001b[0m\n\u001b[1;32m     19\u001b[0m     \u001b[0mind\u001b[0m \u001b[0;34m=\u001b[0m \u001b[0mtest_dict\u001b[0m\u001b[0;34m.\u001b[0m\u001b[0mgoalkeeper\u001b[0m\u001b[0;34m.\u001b[0m\u001b[0mID\u001b[0m\u001b[0;34m.\u001b[0m\u001b[0mindex\u001b[0m\u001b[0;34m(\u001b[0m\u001b[0mpid\u001b[0m\u001b[0;34m)\u001b[0m\u001b[0;34m\u001b[0m\u001b[0;34m\u001b[0m\u001b[0m\n\u001b[0;32m---> 20\u001b[0;31m     \u001b[0mY_pred\u001b[0m \u001b[0;34m=\u001b[0m\u001b[0mgmodel\u001b[0m\u001b[0;34m.\u001b[0m\u001b[0mpredict\u001b[0m\u001b[0;34m(\u001b[0m\u001b[0mtest_dict\u001b[0m\u001b[0;34m.\u001b[0m\u001b[0mgoalkeeper\u001b[0m\u001b[0;34m.\u001b[0m\u001b[0mX\u001b[0m\u001b[0;34m)\u001b[0m\u001b[0;34m\u001b[0m\u001b[0;34m\u001b[0m\u001b[0m\n\u001b[0m\u001b[1;32m     21\u001b[0m     \u001b[0mold_points\u001b[0m \u001b[0;34m=\u001b[0m \u001b[0mY_pred\u001b[0m\u001b[0;34m[\u001b[0m\u001b[0mind\u001b[0m\u001b[0;34m]\u001b[0m\u001b[0;34m[\u001b[0m\u001b[0;36m0\u001b[0m\u001b[0;34m]\u001b[0m\u001b[0;34m\u001b[0m\u001b[0;34m\u001b[0m\u001b[0m\n\u001b[1;32m     22\u001b[0m     \u001b[0mnew_ind\u001b[0m \u001b[0;34m=\u001b[0m \u001b[0mcompare\u001b[0m\u001b[0;34m(\u001b[0m\u001b[0mY_pred\u001b[0m\u001b[0;34m,\u001b[0m\u001b[0mold_points\u001b[0m\u001b[0;34m,\u001b[0m\u001b[0mold_val\u001b[0m\u001b[0;34m,\u001b[0m\u001b[0mtest_dict\u001b[0m\u001b[0;34m.\u001b[0m\u001b[0mgoalkeeper\u001b[0m\u001b[0;34m.\u001b[0m\u001b[0mID\u001b[0m\u001b[0;34m)\u001b[0m\u001b[0;34m\u001b[0m\u001b[0;34m\u001b[0m\u001b[0m\n",
            "\u001b[0;31mNameError\u001b[0m: name 'gmodel' is not defined"
          ]
        }
      ]
    },
    {
      "cell_type": "code",
      "metadata": {
        "id": "c_vy2SVY-RxF",
        "colab_type": "code",
        "colab": {}
      },
      "source": [
        ""
      ],
      "execution_count": 0,
      "outputs": []
    }
  ]
}